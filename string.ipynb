{
 "cells": [
  {
   "cell_type": "code",
   "execution_count": 20,
   "id": "e31d6abf-65b1-4fb8-a069-7aab325080fa",
   "metadata": {},
   "outputs": [
    {
     "data": {
      "text/plain": [
       "'gnimmargorp nohtyP'"
      ]
     },
     "execution_count": 20,
     "metadata": {},
     "output_type": "execute_result"
    }
   ],
   "source": [
    "string=\"Python programming\"\n",
    "string[::-1]"
   ]
  },
  {
   "cell_type": "code",
   "execution_count": 2,
   "id": "7a5d1b49-1526-4e6f-bd42-82949e4f2520",
   "metadata": {},
   "outputs": [
    {
     "name": "stdout",
     "output_type": "stream",
     "text": [
      "palindrome\n"
     ]
    }
   ],
   "source": [
    "string=\"racecar\"\n",
    "if string==string[::-1]:\n",
    "    print(\"palindrome\")"
   ]
  },
  {
   "cell_type": "code",
   "execution_count": 6,
   "id": "896b4694-c908-402c-9ce5-99493e609c85",
   "metadata": {},
   "outputs": [
    {
     "name": "stdout",
     "output_type": "stream",
     "text": [
      "number of words 6\n"
     ]
    }
   ],
   "source": [
    "string=\"Python is a great  programming language\"\n",
    "words=len(string.split())\n",
    "print(\"number of words\",words)"
   ]
  },
  {
   "cell_type": "code",
   "execution_count": 4,
   "id": "cfbdbc4a-5375-4fb2-b181-12b66e926f1d",
   "metadata": {},
   "outputs": [
    {
     "data": {
      "text/plain": [
       "'Hello World'"
      ]
     },
     "execution_count": 4,
     "metadata": {},
     "output_type": "execute_result"
    }
   ],
   "source": [
    "word=\"hello world\"\n",
    "word.title()"
   ]
  },
  {
   "cell_type": "code",
   "execution_count": 10,
   "id": "bd387729-d584-4467-8c7a-557b2f9c62d8",
   "metadata": {},
   "outputs": [
    {
     "name": "stdout",
     "output_type": "stream",
     "text": [
      "12\n"
     ]
    }
   ],
   "source": [
    "string=\"Data Science\"\n",
    "print(len(string))"
   ]
  },
  {
   "cell_type": "code",
   "execution_count": 9,
   "id": "1bb57c7a-111e-46da-b000-be01cbdf1536",
   "metadata": {},
   "outputs": [
    {
     "name": "stdout",
     "output_type": "stream",
     "text": [
      "True\n"
     ]
    }
   ],
   "source": [
    "string=\"python programming language\"\n",
    "print(\"python\" in string)"
   ]
  },
  {
   "cell_type": "code",
   "execution_count": 8,
   "id": "e203665d-5a17-48a9-9ef7-dace7c275ff8",
   "metadata": {},
   "outputs": [
    {
     "data": {
      "text/plain": [
       "'Machine_Learnig'"
      ]
     },
     "execution_count": 8,
     "metadata": {},
     "output_type": "execute_result"
    }
   ],
   "source": [
    "string=\"Machine Learnig\"\n",
    "string.replace(\" \",\"_\")"
   ]
  },
  {
   "cell_type": "code",
   "execution_count": 7,
   "id": "50962c0a-3815-496d-af1d-eb2b4f0039be",
   "metadata": {},
   "outputs": [
    {
     "data": {
      "text/plain": [
       "'Artifi'"
      ]
     },
     "execution_count": 7,
     "metadata": {},
     "output_type": "execute_result"
    }
   ],
   "source": [
    "text=\"Artificial intelligence\"\n",
    "text[0:6]"
   ]
  },
  {
   "cell_type": "code",
   "execution_count": 6,
   "id": "ad668f1e-0ad0-458b-892c-988dc57ce5ef",
   "metadata": {},
   "outputs": [
    {
     "data": {
      "text/plain": [
       "'uppercase'"
      ]
     },
     "execution_count": 6,
     "metadata": {},
     "output_type": "execute_result"
    }
   ],
   "source": [
    "word=\"UPPERCASE\"\n",
    "word.lower()"
   ]
  },
  {
   "cell_type": "code",
   "execution_count": 5,
   "id": "cced82fb-f99f-4d72-9a0a-62d7c4755911",
   "metadata": {},
   "outputs": [
    {
     "name": "stdout",
     "output_type": "stream",
     "text": [
      "Cmptr Scnc\n"
     ]
    }
   ],
   "source": [
    "string=\"Computer Science\"\n",
    "vowels=\"aeiouAEIOU\"\n",
    "result=''.join(i for i in string if i not in vowels)\n",
    "print(result)"
   ]
  },
  {
   "cell_type": "code",
   "execution_count": 4,
   "id": "f7dd282a-6487-4e3a-b732-810ca0b390ce",
   "metadata": {},
   "outputs": [
    {
     "name": "stdout",
     "output_type": "stream",
     "text": [
      "it is not same\n"
     ]
    }
   ],
   "source": [
    "a=\"listn\"\n",
    "b=\"silent\"\n",
    "if sorted(a)==sorted(b):\n",
    "    print(\"yes it is same\")\n",
    "else:\n",
    "    print(\"it is not same\")"
   ]
  },
  {
   "cell_type": "code",
   "execution_count": 3,
   "id": "d4403544-486e-452a-a10c-07bb9b6a0c75",
   "metadata": {},
   "outputs": [
    {
     "name": "stdin",
     "output_type": "stream",
     "text": [
      " big\n",
      " bag\n"
     ]
    },
    {
     "name": "stdout",
     "output_type": "stream",
     "text": [
      "it is not same\n"
     ]
    }
   ],
   "source": [
    "a=input()\n",
    "b=input()\n",
    "if sorted(a)==sorted(b):\n",
    "    print(\"yes it is same\")\n",
    "else:\n",
    "    print(\"it is not same\")\n"
   ]
  },
  {
   "cell_type": "code",
   "execution_count": 14,
   "id": "53e56515-49ff-4b14-b1f9-e24fad2be95c",
   "metadata": {},
   "outputs": [
    {
     "data": {
      "text/plain": [
       "8"
      ]
     },
     "execution_count": 14,
     "metadata": {},
     "output_type": "execute_result"
    }
   ],
   "source": [
    "string=\"Hello world\"\n",
    "vowels=\"aeiouAEIOU\"\n",
    "result=''.join(i for i in string if i not in vowels)\n",
    "len(result)"
   ]
  },
  {
   "cell_type": "code",
   "execution_count": 13,
   "id": "d3ade415-7320-48f1-b8b8-f2759c334c61",
   "metadata": {},
   "outputs": [
    {
     "name": "stdout",
     "output_type": "stream",
     "text": [
      "programming\n"
     ]
    }
   ],
   "source": [
    "string=\"Python programming language\"\n",
    "word=string.split()\n",
    "long=max(word)\n",
    "print(long)"
   ]
  },
  {
   "cell_type": "code",
   "execution_count": 3,
   "id": "a5b344fe-de09-4e9e-be1e-3c86d93adeca",
   "metadata": {},
   "outputs": [
    {
     "data": {
      "text/plain": [
       "False"
      ]
     },
     "execution_count": 3,
     "metadata": {},
     "output_type": "execute_result"
    }
   ],
   "source": [
    "sent=\"Hello, World! how are you!\"\n",
    "sent.isalpha()"
   ]
  },
  {
   "cell_type": "code",
   "execution_count": 4,
   "id": "6b97dcc2-2f17-419a-9a84-e17a28f22b27",
   "metadata": {},
   "outputs": [
    {
     "data": {
      "text/plain": [
       "True"
      ]
     },
     "execution_count": 4,
     "metadata": {},
     "output_type": "execute_result"
    }
   ],
   "source": [
    "string=\"python\"\n",
    "string.startswith(\"python\")"
   ]
  },
  {
   "cell_type": "code",
   "execution_count": 5,
   "id": "8bee5508-7255-4411-b162-5a300d280ce1",
   "metadata": {},
   "outputs": [
    {
     "data": {
      "text/plain": [
       "4"
      ]
     },
     "execution_count": 5,
     "metadata": {},
     "output_type": "execute_result"
    }
   ],
   "source": [
    "string=\"hello world\"\n",
    "string.index(\"o\")"
   ]
  },
  {
   "cell_type": "code",
   "execution_count": 6,
   "id": "2e958717-0920-4715-aa9c-34d52bcd727c",
   "metadata": {},
   "outputs": [
    {
     "data": {
      "text/plain": [
       "['apple', 'banana', 'orange']"
      ]
     },
     "execution_count": 6,
     "metadata": {},
     "output_type": "execute_result"
    }
   ],
   "source": [
    "var=\"apple,banana,orange\"\n",
    "var.split(',')"
   ]
  },
  {
   "cell_type": "code",
   "execution_count": 7,
   "id": "dfba9092-0cd9-4f23-bfee-ad03e5e5b976",
   "metadata": {},
   "outputs": [
    {
     "data": {
      "text/plain": [
       "' '"
      ]
     },
     "execution_count": 7,
     "metadata": {},
     "output_type": "execute_result"
    }
   ],
   "source": [
    "list=['Python', 'is', 'awesome'] \n",
    "new=str(list)\n",
    "new.join(' ')"
   ]
  },
  {
   "cell_type": "code",
   "execution_count": 8,
   "id": "65484410-855d-46b1-9dd6-3a3cc8b7d450",
   "metadata": {},
   "outputs": [
    {
     "data": {
      "text/plain": [
       "True"
      ]
     },
     "execution_count": 8,
     "metadata": {},
     "output_type": "execute_result"
    }
   ],
   "source": [
    "number=\"123345\"\n",
    "number.isdigit()"
   ]
  },
  {
   "cell_type": "code",
   "execution_count": 10,
   "id": "5a15f73c-6dbe-4410-b3c2-d25ee4778006",
   "metadata": {},
   "outputs": [
    {
     "data": {
      "text/plain": [
       "True"
      ]
     },
     "execution_count": 10,
     "metadata": {},
     "output_type": "execute_result"
    }
   ],
   "source": [
    "string=\"Helloworld\"\n",
    "string.isalpha()"
   ]
  },
  {
   "cell_type": "code",
   "execution_count": 14,
   "id": "e691af7b-9f97-4e2d-b3ed-fbb95a4d1513",
   "metadata": {},
   "outputs": [
    {
     "name": "stdout",
     "output_type": "stream",
     "text": [
      "1\n"
     ]
    }
   ],
   "source": [
    "string=\"banana\"\n",
    "position=string.index('a')\n",
    "print(position)"
   ]
  },
  {
   "cell_type": "code",
   "execution_count": 2,
   "id": "6b6fccd2-c65a-4ef2-ac74-07740fccbc20",
   "metadata": {},
   "outputs": [
    {
     "data": {
      "text/plain": [
       "'hello world'"
      ]
     },
     "execution_count": 2,
     "metadata": {},
     "output_type": "execute_result"
    }
   ],
   "source": [
    "sent=\" hello world \"\n",
    "sent.strip()\n",
    "\n"
   ]
  },
  {
   "cell_type": "code",
   "execution_count": 6,
   "id": "4eb1fcb4-263a-40a4-9f64-4919c04c4881",
   "metadata": {},
   "outputs": [
    {
     "name": "stdout",
     "output_type": "stream",
     "text": [
      "the string ends with ing\n"
     ]
    }
   ],
   "source": [
    "word=\"programming\"\n",
    "if word.endswith(\"ing\"):\n",
    "    print(\"the string ends with ing\")"
   ]
  },
  {
   "cell_type": "code",
   "execution_count": 11,
   "id": "e8cc5d44-c30a-4018-bb7e-67561dd72c64",
   "metadata": {},
   "outputs": [
    {
     "data": {
      "text/plain": [
       "'Hell0 world'"
      ]
     },
     "execution_count": 11,
     "metadata": {},
     "output_type": "execute_result"
    }
   ],
   "source": [
    "word=\"Hello world\"\n",
    "word.replace('o','0',1)"
   ]
  },
  {
   "cell_type": "code",
   "execution_count": 16,
   "id": "00362f8c-0a58-49a6-983e-e99ce7542b13",
   "metadata": {},
   "outputs": [
    {
     "data": {
      "text/plain": [
       "'a'"
      ]
     },
     "execution_count": 16,
     "metadata": {},
     "output_type": "execute_result"
    }
   ],
   "source": [
    "string=\"Python programming is a powerful\"\n",
    "word=string.split()\n",
    "min(word,key=len)"
   ]
  },
  {
   "cell_type": "code",
   "execution_count": 18,
   "id": "f1e2019f-55d2-4f90-af17-bf7827c2e507",
   "metadata": {},
   "outputs": [
    {
     "data": {
      "text/plain": [
       "2"
      ]
     },
     "execution_count": 18,
     "metadata": {},
     "output_type": "execute_result"
    }
   ],
   "source": [
    "word=\"Python programming is powerful\"\n",
    "word.count('p')"
   ]
  },
  {
   "cell_type": "code",
   "execution_count": 19,
   "id": "fa10f2bb-1e9c-42b8-91ff-fa00089e36a4",
   "metadata": {},
   "outputs": [
    {
     "data": {
      "text/plain": [
       "'nohtyP dlroW olleH'"
      ]
     },
     "execution_count": 19,
     "metadata": {},
     "output_type": "execute_result"
    }
   ],
   "source": [
    "word=\"Hello World Python\"\n",
    "word[::-1]"
   ]
  },
  {
   "cell_type": "code",
   "execution_count": 4,
   "id": "78dc1469-190f-469e-a4fb-1e78f39eb78a",
   "metadata": {},
   "outputs": [
    {
     "data": {
      "text/plain": [
       "True"
      ]
     },
     "execution_count": 4,
     "metadata": {},
     "output_type": "execute_result"
    }
   ],
   "source": [
    "# Question 31: Check if string is a valid email format: \"user@example.com\"\n",
    "word= \"user@example.com\"\n",
    "word.endswith(\"@example.com\")"
   ]
  },
  {
   "cell_type": "code",
   "execution_count": 5,
   "id": "260959ec-4c95-4e0a-8db6-f3ca2f463345",
   "metadata": {},
   "outputs": [
    {
     "name": "stdout",
     "output_type": "stream",
     "text": [
      "{'o', 'l'}\n"
     ]
    }
   ],
   "source": [
    "# Question 34: Find common characters between \"hello\" and \"world\"\n",
    "string1=\"hello\"\n",
    "string2=\"world\"\n",
    "common_characters=set(string1)&set(string2)\n",
    "print(common_characters)"
   ]
  },
  {
   "cell_type": "code",
   "execution_count": 19,
   "id": "f9a90b3a-4629-478e-ad83-fc13b5ef3954",
   "metadata": {},
   "outputs": [
    {
     "data": {
      "text/plain": [
       "'hElLo wOrLd'"
      ]
     },
     "execution_count": 19,
     "metadata": {},
     "output_type": "execute_result"
    }
   ],
   "source": [
    "# Question 23: Convert \"hello world\" to \"hElLo WoRlD\" (alternating case)\n",
    "word=\"hello world\"\n",
    "result=\"\"\n",
    "i=0\n",
    "for x in word:\n",
    "    if i%2==0:\n",
    "        result+=x.lower()\n",
    "    else:\n",
    "        result+=x.upper()\n",
    "    i+=1\n",
    "result"
   ]
  },
  {
   "cell_type": "code",
   "execution_count": 28,
   "id": "986435e8-168c-4621-aec7-bde11f3ebb9c",
   "metadata": {},
   "outputs": [
    {
     "data": {
      "text/plain": [
       "'com/path'"
      ]
     },
     "execution_count": 28,
     "metadata": {},
     "output_type": "execute_result"
    }
   ],
   "source": [
    "# Question 32: Extract domain from \"https://www.example.com/path\"\n",
    "url=\"https://www.example.com/path\"\n",
    "url.split('.')[2]"
   ]
  },
  {
   "cell_type": "code",
   "execution_count": 30,
   "id": "52e45757-a40e-4d6c-ade1-cf26c1788705",
   "metadata": {},
   "outputs": [
    {
     "data": {
      "text/plain": [
       "4"
      ]
     },
     "execution_count": 30,
     "metadata": {},
     "output_type": "execute_result"
    }
   ],
   "source": [
    "# Question 33: Count lines in multi-line string\n",
    "text='''python  wide subject\n",
    "it used is easy to learn\n",
    "easy to learn \n",
    "so \n",
    "it is easylearn'''\n",
    "text.count('\\n')\n"
   ]
  },
  {
   "cell_type": "code",
   "execution_count": 32,
   "id": "2a49a5d0-63c9-48ca-8bdf-0e82fcf308e5",
   "metadata": {},
   "outputs": [
    {
     "data": {
      "text/plain": [
       "{'l', 'o'}"
      ]
     },
     "execution_count": 32,
     "metadata": {},
     "output_type": "execute_result"
    }
   ],
   "source": [
    "# Question 34: Find common characters between \"hello\" and \"world\"\n",
    "a=\"hello\"\n",
    "b=\"world\"\n",
    "resul=set(a)\n",
    "result=set(b)\n",
    "resul.intersection(result)"
   ]
  },
  {
   "cell_type": "code",
   "execution_count": 57,
   "id": "0e2cedb9-d76f-4d81-a13d-5ab3640ba910",
   "metadata": {},
   "outputs": [
    {
     "name": "stdout",
     "output_type": "stream",
     "text": [
      "Valid phone number\n"
     ]
    }
   ],
   "source": [
    "# Question 35: Check if string is a valid phone number: \"+1-555-123-4567\"\n",
    "jparts=\"+1-555-123-4567\"\n",
    "parts=jparts.split('-')\n",
    "\n",
    "if (len(parts) == 4 and\n",
    "    parts[0].startswith('+') and parts[0][1:].isdigit() and\n",
    "    parts[1].isdigit() and len(parts[1]) == 3 and\n",
    "    parts[2].isdigit() and len(parts[2]) == 3 and\n",
    "    parts[3].isdigit() and len(parts[3]) == 4):\n",
    "    print(\"Valid phone number\")\n",
    "else:\n",
    "    print(\"Invalid phone number\")"
   ]
  },
  {
   "cell_type": "code",
   "execution_count": 63,
   "id": "277e66c1-6e51-4b74-a809-50bc4af1fe69",
   "metadata": {},
   "outputs": [
    {
     "name": "stdout",
     "output_type": "stream",
     "text": [
      "123456789\n"
     ]
    }
   ],
   "source": [
    "# Question 36: Extract numbers from \"abc123def456ghi789\"\n",
    "s = \"abc123def456ghi789\"\n",
    "numbers = \"\"\n",
    "\n",
    "for ch in s:\n",
    "    if ch.isdigit():\n",
    "        numbers += ch\n",
    "\n",
    "print(numbers)\n"
   ]
  },
  {
   "cell_type": "code",
   "execution_count": 1,
   "id": "cf90f830-8ade-4d3a-9f30-905a01cc7ff8",
   "metadata": {},
   "outputs": [
    {
     "name": "stdout",
     "output_type": "stream",
     "text": [
      "snakeCase\n"
     ]
    }
   ],
   "source": [
    "# Question 37: Convert \"snake_case\" to \"camelCase\"\n",
    "snake_case = \"snake_case\"\n",
    "\n",
    "# Split the string at underscores\n",
    "words = snake_case.split(\"_\")\n",
    "\n",
    "# Capitalize all except the first word, then join\n",
    "camel_case = words[0] + ''.join(word.capitalize() for word in words[1:])\n",
    "\n",
    "print(camel_case)\n"
   ]
  },
  {
   "cell_type": "code",
   "execution_count": 10,
   "id": "878cbea6-610a-4fe7-9692-b3b2a4a0c275",
   "metadata": {},
   "outputs": [
    {
     "name": "stdout",
     "output_type": "stream",
     "text": [
      "it is palindrome\n"
     ]
    }
   ],
   "source": [
    "# Question 38: Check if string is a valid palindrome ignoring case: \"A man a plan a canal Panama\"\n",
    "word=\"A man a plan a canal Panama\"\n",
    "word=word.lower()\n",
    "word=word.replace(\" \",\"\")\n",
    "if word==word[::-1]:\n",
    "    print(\"it is palindrome\")\n",
    "else:\n",
    "    print(\"it is not palidrome\")"
   ]
  },
  {
   "cell_type": "code",
   "execution_count": 16,
   "id": "5420b954-f467-4fae-84dd-fd86eb2e4807",
   "metadata": {},
   "outputs": [
    {
     "name": "stdout",
     "output_type": "stream",
     "text": [
      "most common word: the\n"
     ]
    }
   ],
   "source": [
    "# Question 39: Find the most common word in \"the quick brown fox jumps over the lazy dog\"\n",
    "sent=\"the quick brown fox jumps over the lazy dog\"\n",
    "words=sent.split()\n",
    "word_count={}\n",
    "for word in words:\n",
    "    word_count[word]=word_count.get(word,0)+1\n",
    "    most_common=max(word_count,key=word_count.get)\n",
    "print(\"most common word:\",most_common)\n"
   ]
  },
  {
   "cell_type": "code",
   "execution_count": 21,
   "id": "f31b66fa-abd7-4083-80fb-e5298816be1f",
   "metadata": {},
   "outputs": [
    {
     "name": "stdout",
     "output_type": "stream",
     "text": [
      "NAASA\n"
     ]
    }
   ],
   "source": [
    "# Question 40: Generate acronym from \"National Aeronautics and Space Administration\"\n",
    "word= \"National Aeronautics and Space Administration\"\n",
    "sent=word.split()\n",
    "achronym=\"\"\n",
    "for i in sent:\n",
    "    achronym+=i[0].upper()\n",
    "print(achronym)"
   ]
  },
  {
   "cell_type": "code",
   "execution_count": 25,
   "id": "377399ad-1d6c-4012-8927-629dd4da10d0",
   "metadata": {},
   "outputs": [
    {
     "name": "stdout",
     "output_type": "stream",
     "text": [
      "True\n"
     ]
    }
   ],
   "source": [
    "# Question 41: Check if string contains balanced parentheses: \"((()))\"\n",
    "sent=\"((()))\"\n",
    "open_count = sent.count('(')\n",
    "close_count = sent.count(')')\n",
    "balanced = open_count == close_count and sent.find(')') > sent.find('(')\n",
    "\n",
    "print(balanced)\n",
    "\n"
   ]
  },
  {
   "cell_type": "code",
   "execution_count": 26,
   "id": "53a56aa6-2740-4fd6-92dd-6cc14ac3df07",
   "metadata": {},
   "outputs": [
    {
     "name": "stdout",
     "output_type": "stream",
     "text": [
      ".... . .-.. .-.. --- / .-- --- .-. .-.. -..\n"
     ]
    }
   ],
   "source": [
    "# Question 42: Convert \"hello world\" to Morse code\n",
    "morse_dict = {\n",
    "    'A': '.-',    'B': '-...',  'C': '-.-.', 'D': '-..',   'E': '.',\n",
    "    'F': '..-.',  'G': '--.',   'H': '....', 'I': '..',    'J': '.---',\n",
    "    'K': '-.-',   'L': '.-..',  'M': '--',   'N': '-.',    'O': '---',\n",
    "    'P': '.--.',  'Q': '--.-',  'R': '.-.',  'S': '...',   'T': '-',\n",
    "    'U': '..-',   'V': '...-',  'W': '.--',  'X': '-..-',  'Y': '-.--',\n",
    "    'Z': '--..',\n",
    "    '0': '-----', '1': '.----', '2': '..---','3': '...--', '4': '....-',\n",
    "    '5': '.....', '6': '-....', '7': '--...', '8': '---..','9': '----.',\n",
    "    ' ': '/'\n",
    "}\n",
    "text = \"hello world\"\n",
    "morse_code = ' '.join(morse_dict[char.upper()] for char in text)\n",
    "\n",
    "print(morse_code)\n"
   ]
  },
  {
   "cell_type": "code",
   "execution_count": null,
   "id": "d60f4a32-df03-4268-af30-ac7685fd3e7c",
   "metadata": {},
   "outputs": [],
   "source": [
    "# Question 43: Find the longest common substring between \"programming\" and \"grammar\"\n",
    "Find the longest common substring between \"programming\" and \"grammar\""
   ]
  },
  {
   "cell_type": "code",
   "execution_count": 29,
   "id": "5479a9bc-e608-4793-ac03-fdf7fabb0bed",
   "metadata": {},
   "outputs": [
    {
     "name": "stdout",
     "output_type": "stream",
     "text": [
      "True\n"
     ]
    }
   ],
   "source": [
    "# Question 44: Check if string is a valid URL: \"https://www.google.com\"\n",
    "url=\"https://www.google.com\"\n",
    "word=url.startswith(\"http://\") or url.startswith(\"https://\") and '.'in url\n",
    "print(word)"
   ]
  },
  {
   "cell_type": "code",
   "execution_count": 42,
   "id": "9f28147e-9ed7-405e-9b63-908c84f17e5c",
   "metadata": {},
   "outputs": [
    {
     "name": "stdout",
     "output_type": "stream",
     "text": [
      "['Python', 'programming', 'amazing', 'powerful']\n"
     ]
    }
   ],
   "source": [
    "# Question 45: Extract all words with length > 5 from \"Python programming is amazing and powerful\"\n",
    "terxt=\"Python programming is amazing and powerful\"\n",
    "word=text.split()\n",
    "result=[]\n",
    "for i in word:\n",
    "    if len(i)>5:\n",
    "        result.append(i)\n",
    "print(result)\n",
    "        "
   ]
  },
  {
   "cell_type": "code",
   "execution_count": 50,
   "id": "f4a50883-75fe-4a7f-a2b0-f51e4c9f61c3",
   "metadata": {},
   "outputs": [
    {
     "name": "stdout",
     "output_type": "stream",
     "text": [
      "owerfulpay\n"
     ]
    }
   ],
   "source": [
    "# Question 46: Convert \"hello world\" to Pig Latin\n",
    "text=\"hello world\"\n",
    "word=text.split()\n",
    "vowels=\"aeiouAEIOU\"\n",
    "sentence=''\n",
    "for i in word:\n",
    "    if w[0]in vowels:\n",
    "        pig_latin=w+\"way\"\n",
    "else:\n",
    "    pig_latin=w[1:]+w[0]+\"ay\"\n",
    "    sentence+=pig_latin\n",
    "    sentence = sentence.strip()\n",
    "print(sentence)\n"
   ]
  },
  {
   "cell_type": "code",
   "execution_count": 1,
   "id": "2ee2bc7d-36c6-4009-ba8a-fbd768dad8d5",
   "metadata": {},
   "outputs": [
    {
     "name": "stdout",
     "output_type": "stream",
     "text": [
      "ellohay orldway\n"
     ]
    }
   ],
   "source": [
    "# Question 46: Convert \"hello world\" to Pig Latin\n",
    "text = \"hello world\"\n",
    "words = text.split()       \n",
    "\n",
    "pig_latin_words = []\n",
    "for w in words:\n",
    "    pig_word = w[1:] + w[0] + \"ay\"  \n",
    "    pig_latin_words.append(pig_word)\n",
    "\n",
    "result = \" \".join(pig_latin_words)  \n",
    "print(result)"
   ]
  },
  {
   "cell_type": "code",
   "execution_count": 3,
   "id": "efd779c8-a19d-4e7d-bdd2-d20152136029",
   "metadata": {},
   "outputs": [
    {
     "name": "stdout",
     "output_type": "stream",
     "text": [
      "Valid IPv4\n"
     ]
    }
   ],
   "source": [
    "# Question 47: Check if string is a valid IPv4 address: \"192.168.1.1\"\n",
    "lat=\"192.168.1.1\"     #ipv4 should be lessthan 255\n",
    "num=protocol.split('.')\n",
    "if (len(num) == 4 and\n",
    "    num[0].isdigit() and 0<=int(lat[0])<=255 and\n",
    "    num[1].isdigit() and 0<=int(lat[0])<=255 and\n",
    "    num[2].isdigit() and 0<=int(lat[0])<=255 and\n",
    "    num[3].isdigit() and 0<=int(lat[0])<=255\n",
    "   ):\n",
    "    print(\"Valid IPv4\")\n",
    "else:\n",
    "    print(\"Invalid IPv4\")"
   ]
  },
  {
   "cell_type": "code",
   "execution_count": 5,
   "id": "2771f56f-a150-4700-af02-ef68825a971e",
   "metadata": {},
   "outputs": [
    {
     "name": "stdout",
     "output_type": "stream",
     "text": [
      "['a', 'ab', 'abc', 'b', 'bc', 'c']\n"
     ]
    }
   ],
   "source": [
    "# Question 48: Find all substrings of \"abc\"\n",
    "s=\"abc\"\n",
    "n = len(s)\n",
    "\n",
    "substrings = []\n",
    "for i in range(n):             # start index\n",
    "    for j in range(i+1, n+1):  # end index\n",
    "        substrings.append(s[i:j])\n",
    "\n",
    "print(substrings)"
   ]
  },
  {
   "cell_type": "code",
   "execution_count": 6,
   "id": "914625a5-5c33-4b6d-933d-00e9715f414a",
   "metadata": {},
   "outputs": [
    {
     "name": "stdout",
     "output_type": "stream",
     "text": [
      "uryyb jbeyq\n"
     ]
    }
   ],
   "source": [
    "# Question 49: Convert \"hello world\" to ROT13 encoding\n",
    "import codecs\n",
    "sent=\"hello world\"\n",
    "rot13_text=codecs.encode(text,'rot_13')\n",
    "print(rot13_text)"
   ]
  },
  {
   "cell_type": "code",
   "execution_count": 7,
   "id": "050b67d9-a69f-4476-8e51-803795c578b0",
   "metadata": {},
   "outputs": [
    {
     "name": "stdout",
     "output_type": "stream",
     "text": [
      "Valid credit card number\n"
     ]
    }
   ],
   "source": [
    "# Question 50: Check if string is a valid credit card number: \"4532015112830366\"\n",
    "card = \"4532015112830366\"\n",
    "digits = list(card[::-1])  # Reverse the card number\n",
    "\n",
    "total = 0\n",
    "for i in range(len(digits)):\n",
    "    n = int(digits[i])\n",
    "    if i % 2 == 1:  # Double every second digit\n",
    "        n *= 2\n",
    "        if n > 9:\n",
    "            n -= 9\n",
    "    total += n\n",
    "\n",
    "if total % 10 == 0:\n",
    "    print(\"Valid credit card number\")\n",
    "else:\n",
    "    print(\"Invalid credit card number\")"
   ]
  },
  {
   "cell_type": "code",
   "execution_count": null,
   "id": "42c71892-7104-416c-9adf-964afe7a104e",
   "metadata": {},
   "outputs": [],
   "source": []
  }
 ],
 "metadata": {
  "kernelspec": {
   "display_name": "Python 3 (ipykernel)",
   "language": "python",
   "name": "python3"
  },
  "language_info": {
   "codemirror_mode": {
    "name": "ipython",
    "version": 3
   },
   "file_extension": ".py",
   "mimetype": "text/x-python",
   "name": "python",
   "nbconvert_exporter": "python",
   "pygments_lexer": "ipython3",
   "version": "3.13.5"
  }
 },
 "nbformat": 4,
 "nbformat_minor": 5
}
