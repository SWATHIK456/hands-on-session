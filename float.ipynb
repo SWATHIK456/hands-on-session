{
 "cells": [
  {
   "cell_type": "code",
   "execution_count": null,
   "id": "d9d76c8f-8d09-407f-a4a0-dfc5bdf40e32",
   "metadata": {},
   "outputs": [],
   "source": [
    "import math"
   ]
  },
  {
   "cell_type": "code",
   "execution_count": null,
   "id": "393336ca-a5b9-452f-8e43-58f1396ae996",
   "metadata": {},
   "outputs": [],
   "source": []
  },
  {
   "cell_type": "code",
   "execution_count": 1,
   "id": "78887a63-da25-419a-87bd-8fcaf8fd6b1c",
   "metadata": {},
   "outputs": [
    {
     "name": "stdout",
     "output_type": "stream",
     "text": [
      "4.0265\n"
     ]
    }
   ],
   "source": [
    "avg=0\n",
    "sum=(3.14+2.718+1.618+0.577)/2\n",
    "print(sum)"
   ]
  },
  {
   "cell_type": "code",
   "execution_count": 4,
   "id": "a9e81def-8e58-4d62-a07d-b1428f5c1105",
   "metadata": {},
   "outputs": [
    {
     "name": "stdout",
     "output_type": "stream",
     "text": [
      "37.0\n"
     ]
    }
   ],
   "source": [
    "celsius=0\n",
    "celsius=(98.6-32)*5/9\n",
    "print(celsius)\n"
   ]
  },
  {
   "cell_type": "code",
   "execution_count": 3,
   "id": "830e8d2f-ea46-4296-928e-803661909983",
   "metadata": {},
   "outputs": [
    {
     "name": "stdout",
     "output_type": "stream",
     "text": [
      "37.0\n"
     ]
    }
   ],
   "source": [
    "F=98.6\n",
    "c=(F-32)*5/9\n",
    "print(c)"
   ]
  },
  {
   "cell_type": "code",
   "execution_count": 14,
   "id": "2798695d-70be-4444-b1c4-e9403826337f",
   "metadata": {},
   "outputs": [
    {
     "name": "stdout",
     "output_type": "stream",
     "text": [
      "174.24137499999983\n"
     ]
    }
   ],
   "source": [
    "p=1000\n",
    "t=3\n",
    "r=0.055\n",
    "n=1\n",
    "A=p*(1+r/n)**(n*t)\n",
    "com_int=A-p\n",
    "print(com_int)"
   ]
  },
  {
   "cell_type": "code",
   "execution_count": 22,
   "id": "e8b0fc61-eb95-48c1-afc4-e8ad4ef005cb",
   "metadata": {},
   "outputs": [
    {
     "name": "stdout",
     "output_type": "stream",
     "text": [
      "1987.798769261791\n"
     ]
    }
   ],
   "source": [
    "import math\n",
    "r=7.8\n",
    "volume=(4/3)*math.pi*(r**3)\n",
    "print(volume)"
   ]
  },
  {
   "cell_type": "code",
   "execution_count": 28,
   "id": "f4dee495-7a84-4b7e-a005-c5a062f0ed62",
   "metadata": {},
   "outputs": [
    {
     "name": "stdout",
     "output_type": "stream",
     "text": [
      "5.4671747731346585\n"
     ]
    }
   ],
   "source": [
    "import math\n",
    "total=math.sqrt(3.5**2+4.2**2)\n",
    "print(total)"
   ]
  },
  {
   "cell_type": "code",
   "execution_count": 30,
   "id": "049a0e5d-dc3a-4c1d-8ad0-b6e496776a60",
   "metadata": {},
   "outputs": [
    {
     "name": "stdout",
     "output_type": "stream",
     "text": [
      "3.1416\n"
     ]
    }
   ],
   "source": [
    "r=3.1415954\n",
    "print(round(r,5))"
   ]
  },
  {
   "cell_type": "code",
   "execution_count": 31,
   "id": "a573ab90-8ad3-4322-b8f4-6de5375d473e",
   "metadata": {},
   "outputs": [
    {
     "name": "stdout",
     "output_type": "stream",
     "text": [
      "67.16417910447761\n"
     ]
    }
   ],
   "source": [
    "percentage=(45/67)*100\n",
    "print(percentage)"
   ]
  },
  {
   "cell_type": "code",
   "execution_count": 32,
   "id": "5a034ffe-4543-479e-9076-aed46bd90e93",
   "metadata": {},
   "outputs": [
    {
     "name": "stdout",
     "output_type": "stream",
     "text": [
      "4.843139477652899\n"
     ]
    }
   ],
   "source": [
    "number=23.456\n",
    "total=number**(1/2)\n",
    "print(total)"
   ]
  },
  {
   "cell_type": "code",
   "execution_count": 34,
   "id": "afba5680-ec60-43c2-b75a-3019f79933ac",
   "metadata": {},
   "outputs": [
    {
     "name": "stdout",
     "output_type": "stream",
     "text": [
      "2926.267528157269\n",
      "4.0625\n"
     ]
    }
   ],
   "source": [
    "p=2500\n",
    "r=0.065\n",
    "t=2.5\n",
    "n=1\n",
    "A=p*(1+r/n)**(n*t)\n",
    "print(A)\n",
    "z=(p*r*t)/100\n",
    "print(z)"
   ]
  },
  {
   "cell_type": "code",
   "execution_count": 35,
   "id": "fc4d5127-c4c5-4611-bd90-c988b8ed0645",
   "metadata": {},
   "outputs": [
    {
     "name": "stdout",
     "output_type": "stream",
     "text": [
      "0.7972111111111112\n"
     ]
    }
   ],
   "source": [
    "degree=45.7\n",
    "radians=degree*(3.14/180)\n",
    "print(radians)"
   ]
  },
  {
   "cell_type": "code",
   "execution_count": null,
   "id": "1cc0b259-aef7-4bb5-a323-eda64c746a05",
   "metadata": {},
   "outputs": [],
   "source": []
  }
 ],
 "metadata": {
  "kernelspec": {
   "display_name": "Python 3 (ipykernel)",
   "language": "python",
   "name": "python3"
  },
  "language_info": {
   "codemirror_mode": {
    "name": "ipython",
    "version": 3
   },
   "file_extension": ".py",
   "mimetype": "text/x-python",
   "name": "python",
   "nbconvert_exporter": "python",
   "pygments_lexer": "ipython3",
   "version": "3.13.5"
  }
 },
 "nbformat": 4,
 "nbformat_minor": 5
}
