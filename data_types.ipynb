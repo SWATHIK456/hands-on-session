{
 "cells": [
  {
   "cell_type": "code",
   "execution_count": 1,
   "id": "43d07920-111a-4190-af5a-ea2d9913e8bd",
   "metadata": {},
   "outputs": [
    {
     "data": {
      "text/plain": [
       "float"
      ]
     },
     "execution_count": 1,
     "metadata": {},
     "output_type": "execute_result"
    }
   ],
   "source": [
    "x=12.5\n",
    "type(x)\n"
   ]
  },
  {
   "cell_type": "code",
   "execution_count": 4,
   "id": "2fd0d4b5-15f4-4f41-88b2-5de25cf5f22c",
   "metadata": {},
   "outputs": [
    {
     "data": {
      "text/plain": [
       "int"
      ]
     },
     "execution_count": 4,
     "metadata": {},
     "output_type": "execute_result"
    }
   ],
   "source": [
    "x=21\n",
    "type(x)\n"
   ]
  },
  {
   "cell_type": "code",
   "execution_count": 7,
   "id": "66e11448-1edc-457f-b513-a06636c74c01",
   "metadata": {},
   "outputs": [
    {
     "data": {
      "text/plain": [
       "complex"
      ]
     },
     "execution_count": 7,
     "metadata": {},
     "output_type": "execute_result"
    }
   ],
   "source": [
    "x=1+3j\n",
    "type(x)"
   ]
  },
  {
   "cell_type": "code",
   "execution_count": 8,
   "id": "56f16b18-963a-4231-bda6-955f05fb1fa2",
   "metadata": {},
   "outputs": [
    {
     "data": {
      "text/plain": [
       "str"
      ]
     },
     "execution_count": 8,
     "metadata": {},
     "output_type": "execute_result"
    }
   ],
   "source": [
    "x='abcyu'\n",
    "type(x)"
   ]
  },
  {
   "cell_type": "code",
   "execution_count": 9,
   "id": "2c9bba98-60c6-48bf-b7ac-2fa0fb9a355b",
   "metadata": {},
   "outputs": [
    {
     "data": {
      "text/plain": [
       "str"
      ]
     },
     "execution_count": 9,
     "metadata": {},
     "output_type": "execute_result"
    }
   ],
   "source": [
    "x='''abc\n",
    "trkj\n",
    "ygil'''\n",
    "type(x)"
   ]
  },
  {
   "cell_type": "code",
   "execution_count": 10,
   "id": "0442c9ec-f52a-420a-b424-9c87089868e4",
   "metadata": {},
   "outputs": [
    {
     "data": {
      "text/plain": [
       "'ABC'"
      ]
     },
     "execution_count": 10,
     "metadata": {},
     "output_type": "execute_result"
    }
   ],
   "source": [
    "x='Abc'\n",
    "x.upper()"
   ]
  },
  {
   "cell_type": "code",
   "execution_count": 11,
   "id": "5f25cc59-9c34-46b0-bef4-92e5b13d085e",
   "metadata": {},
   "outputs": [
    {
     "data": {
      "text/plain": [
       "'hfurugl'"
      ]
     },
     "execution_count": 11,
     "metadata": {},
     "output_type": "execute_result"
    }
   ],
   "source": [
    "x='HFURUGL'\n",
    "x.lower()"
   ]
  },
  {
   "cell_type": "code",
   "execution_count": 12,
   "id": "aa8a7a01-4890-4cd8-9e50-aeb367b33e6d",
   "metadata": {},
   "outputs": [
    {
     "data": {
      "text/plain": [
       "'rutgFXXUTU75'"
      ]
     },
     "execution_count": 12,
     "metadata": {},
     "output_type": "execute_result"
    }
   ],
   "source": [
    "x='RUTGfxxutu75'\n",
    "x.swapcase()"
   ]
  },
  {
   "cell_type": "code",
   "execution_count": 13,
   "id": "72c05750-95ff-4826-9856-027413892fc7",
   "metadata": {},
   "outputs": [
    {
     "data": {
      "text/plain": [
       "'aE3TRDATAsciengdd'"
      ]
     },
     "execution_count": 13,
     "metadata": {},
     "output_type": "execute_result"
    }
   ],
   "source": [
    "x='Ae3trdataSCIENGDD'\n",
    "x.swapcase()"
   ]
  },
  {
   "cell_type": "code",
   "execution_count": 14,
   "id": "961c4d8b-140b-41b4-a499-18a0fd6e5e53",
   "metadata": {},
   "outputs": [
    {
     "data": {
      "text/plain": [
       "'Data Science'"
      ]
     },
     "execution_count": 14,
     "metadata": {},
     "output_type": "execute_result"
    }
   ],
   "source": [
    "x='data science'\n",
    "x.title()"
   ]
  },
  {
   "cell_type": "code",
   "execution_count": 16,
   "id": "9f91016f-265d-4ddd-a5f1-89f1a208cd37",
   "metadata": {},
   "outputs": [
    {
     "data": {
      "text/plain": [
       "'Data science'"
      ]
     },
     "execution_count": 16,
     "metadata": {},
     "output_type": "execute_result"
    }
   ],
   "source": [
    "x='data Science'\n",
    "x.capitalize()"
   ]
  },
  {
   "cell_type": "code",
   "execution_count": 19,
   "id": "e8976a20-4fa7-47d1-9443-fe9afdf449d8",
   "metadata": {},
   "outputs": [
    {
     "data": {
      "text/plain": [
       "False"
      ]
     },
     "execution_count": 19,
     "metadata": {},
     "output_type": "execute_result"
    }
   ],
   "source": [
    "x='Data science'\n",
    "x.isalpha()"
   ]
  },
  {
   "cell_type": "code",
   "execution_count": 20,
   "id": "45bec2a8-0ce9-4e53-b4c1-1ee6d0d6606b",
   "metadata": {},
   "outputs": [
    {
     "data": {
      "text/plain": [
       "True"
      ]
     },
     "execution_count": 20,
     "metadata": {},
     "output_type": "execute_result"
    }
   ],
   "source": [
    "x=\"dataengennering\"\n",
    "x.isalpha()"
   ]
  },
  {
   "cell_type": "code",
   "execution_count": 21,
   "id": "dee9c8b6-120f-4763-b27f-2661401d743b",
   "metadata": {},
   "outputs": [
    {
     "data": {
      "text/plain": [
       "False"
      ]
     },
     "execution_count": 21,
     "metadata": {},
     "output_type": "execute_result"
    }
   ],
   "source": [
    "x=\"data 11323sciencemkl\"\n",
    "x.isalpha()"
   ]
  },
  {
   "cell_type": "code",
   "execution_count": 24,
   "id": "6335e43c-6bae-48a1-8412-f4e91e6e75a7",
   "metadata": {},
   "outputs": [
    {
     "data": {
      "text/plain": [
       "True"
      ]
     },
     "execution_count": 24,
     "metadata": {},
     "output_type": "execute_result"
    }
   ],
   "source": [
    "x=\"dat2345de\"\n",
    "x.isalnum()"
   ]
  },
  {
   "cell_type": "code",
   "execution_count": 25,
   "id": "481c9a16-f3bf-44cb-85c3-037ceea2c779",
   "metadata": {},
   "outputs": [
    {
     "data": {
      "text/plain": [
       "True"
      ]
     },
     "execution_count": 25,
     "metadata": {},
     "output_type": "execute_result"
    }
   ],
   "source": [
    "x=\"234689\"\n",
    "x.isalnum()"
   ]
  },
  {
   "cell_type": "markdown",
   "id": "1f7a1f49-61d6-4b41-a657-fa43d60fe8a7",
   "metadata": {},
   "source": [
    "###heading"
   ]
  },
  {
   "cell_type": "markdown",
   "id": "bfba0237-2acb-4b4b-84c1-79fc705564c9",
   "metadata": {},
   "source": [
    " #server"
   ]
  },
  {
   "cell_type": "code",
   "execution_count": 30,
   "id": "92148ecf-d058-4c33-9ba3-102f3d264670",
   "metadata": {},
   "outputs": [
    {
     "data": {
      "text/plain": [
       "True"
      ]
     },
     "execution_count": 30,
     "metadata": {},
     "output_type": "execute_result"
    }
   ],
   "source": [
    "x=\"data science\"\n",
    "x.startswith(\"da\")"
   ]
  },
  {
   "cell_type": "code",
   "execution_count": 31,
   "id": "0248de96-6ab3-4118-aa05-e4d2f4fb9d58",
   "metadata": {},
   "outputs": [
    {
     "data": {
      "text/plain": [
       "True"
      ]
     },
     "execution_count": 31,
     "metadata": {},
     "output_type": "execute_result"
    }
   ],
   "source": [
    "x=\"engeneering\"\n",
    "x.endswith(\"ng\")"
   ]
  },
  {
   "cell_type": "code",
   "execution_count": 32,
   "id": "dcdf6d12-f4e7-484b-b1e7-28f53a12490b",
   "metadata": {},
   "outputs": [
    {
     "data": {
      "text/plain": [
       "['data sci', 'nc', '']"
      ]
     },
     "execution_count": 32,
     "metadata": {},
     "output_type": "execute_result"
    }
   ],
   "source": [
    "x=\"data science\"\n",
    "x.split(\"e\")"
   ]
  },
  {
   "cell_type": "code",
   "execution_count": 33,
   "id": "0bd31c30-39d9-46fb-89c7-b338d3215983",
   "metadata": {},
   "outputs": [
    {
     "data": {
      "text/plain": [
       "['d', 't', '', '']"
      ]
     },
     "execution_count": 33,
     "metadata": {},
     "output_type": "execute_result"
    }
   ],
   "source": [
    "x=\"dataa\"\n",
    "x.split(\"a\")"
   ]
  },
  {
   "cell_type": "code",
   "execution_count": 35,
   "id": "ac5cd88b-94c2-4fe7-8fbe-1bc9d4ceb981",
   "metadata": {},
   "outputs": [
    {
     "data": {
      "text/plain": [
       "['135628 98875']"
      ]
     },
     "execution_count": 35,
     "metadata": {},
     "output_type": "execute_result"
    }
   ],
   "source": [
    "x=\"135628 98875\"\n",
    "x.split(\"$\")"
   ]
  },
  {
   "cell_type": "code",
   "execution_count": 36,
   "id": "2d32b1c0-404a-451b-847e-633d885dfc10",
   "metadata": {},
   "outputs": [
    {
     "data": {
      "text/plain": [
       "'machine science'"
      ]
     },
     "execution_count": 36,
     "metadata": {},
     "output_type": "execute_result"
    }
   ],
   "source": [
    "x=\"data science\"\n",
    "x.replace(\"data\",\"machine\")"
   ]
  },
  {
   "cell_type": "code",
   "execution_count": null,
   "id": "331e181e-4891-4f48-ae90-3e6eb2376577",
   "metadata": {},
   "outputs": [],
   "source": []
  }
 ],
 "metadata": {
  "kernelspec": {
   "display_name": "Python 3 (ipykernel)",
   "language": "python",
   "name": "python3"
  },
  "language_info": {
   "codemirror_mode": {
    "name": "ipython",
    "version": 3
   },
   "file_extension": ".py",
   "mimetype": "text/x-python",
   "name": "python",
   "nbconvert_exporter": "python",
   "pygments_lexer": "ipython3",
   "version": "3.13.7"
  }
 },
 "nbformat": 4,
 "nbformat_minor": 5
}
