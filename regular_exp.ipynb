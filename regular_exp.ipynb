{
 "cells": [
  {
   "cell_type": "code",
   "execution_count": 1,
   "id": "b160d01a-8296-4e72-bba2-672837448365",
   "metadata": {},
   "outputs": [
    {
     "data": {
      "text/plain": [
       "['data']"
      ]
     },
     "execution_count": 1,
     "metadata": {},
     "output_type": "execute_result"
    }
   ],
   "source": [
    "import re\n",
    "text='i like a data science'\n",
    "pattern='data'\n",
    "re.findall(pattern,text)"
   ]
  },
  {
   "cell_type": "code",
   "execution_count": 10,
   "id": "18279d46-6098-4e4b-804f-ed53effd8587",
   "metadata": {},
   "outputs": [
    {
     "data": {
      "text/plain": [
       "<re.Match object; span=(0, 3), match='123'>"
      ]
     },
     "execution_count": 10,
     "metadata": {},
     "output_type": "execute_result"
    }
   ],
   "source": [
    "re.search(r\"\\A123\",\"123there is a car\")"
   ]
  },
  {
   "cell_type": "code",
   "execution_count": 11,
   "id": "79632e6f-4064-4dd2-b18f-242af6df0eb6",
   "metadata": {},
   "outputs": [
    {
     "data": {
      "text/plain": [
       "<re.Match object; span=(9, 12), match='123'>"
      ]
     },
     "execution_count": 11,
     "metadata": {},
     "output_type": "execute_result"
    }
   ],
   "source": [
    "re.search(r\"\\b123\",\"12 there 123is\")"
   ]
  },
  {
   "cell_type": "code",
   "execution_count": 19,
   "id": "8962c936-6957-4d12-bcfb-900f0ae7afd4",
   "metadata": {},
   "outputs": [
    {
     "data": {
      "text/plain": [
       "['345', '725', '647']"
      ]
     },
     "execution_count": 19,
     "metadata": {},
     "output_type": "execute_result"
    }
   ],
   "source": [
    "re.findall(r\"\\d\\d\\d\",\"datascience 345725647\")"
   ]
  },
  {
   "cell_type": "code",
   "execution_count": 22,
   "id": "aa9d458a-e80e-43d8-84a5-52aea3a4e4c1",
   "metadata": {},
   "outputs": [
    {
     "data": {
      "text/plain": [
       "['678954325', '89']"
      ]
     },
     "execution_count": 22,
     "metadata": {},
     "output_type": "execute_result"
    }
   ],
   "source": [
    "re.findall(r\"\\d+\",\"datascience 678954325 89ign\")"
   ]
  },
  {
   "cell_type": "code",
   "execution_count": 23,
   "id": "79c3cc3a-c172-4e2a-a74b-7b79815ea651",
   "metadata": {},
   "outputs": [
    {
     "data": {
      "text/plain": [
       "['d', 'a', 't', 'a', ' ', '$', '@', '%', '@', ' ']"
      ]
     },
     "execution_count": 23,
     "metadata": {},
     "output_type": "execute_result"
    }
   ],
   "source": [
    "re.findall(r\"\\D\",\"data $@%@ 234\")"
   ]
  },
  {
   "cell_type": "code",
   "execution_count": 24,
   "id": "7f3651b9-fcc7-4b35-8380-533aafe69a0b",
   "metadata": {},
   "outputs": [
    {
     "data": {
      "text/plain": [
       "['d', 'a', 't', 'a', 's', 'c', 'i', 'e', 'n', 'c', 'e']"
      ]
     },
     "execution_count": 24,
     "metadata": {},
     "output_type": "execute_result"
    }
   ],
   "source": [
    "re.findall(r\"\\S\",\"data science \\t \\n\")"
   ]
  },
  {
   "cell_type": "code",
   "execution_count": 26,
   "id": "e3a4fb14-78f8-4564-8eff-5d6daa0aa920",
   "metadata": {},
   "outputs": [
    {
     "data": {
      "text/plain": [
       "[' ', ' ', '\\t']"
      ]
     },
     "execution_count": 26,
     "metadata": {},
     "output_type": "execute_result"
    }
   ],
   "source": [
    "re.findall(r\"\\s\",\"data science123 \\t@#$%\")"
   ]
  },
  {
   "cell_type": "code",
   "execution_count": 28,
   "id": "d51e667e-8bbb-4173-a1d0-1d7d8f240da0",
   "metadata": {},
   "outputs": [
    {
     "data": {
      "text/plain": [
       "['p', 'y', 't', 'h', 'o', 'n', '1', '3', '4', 't', 'y', '3']"
      ]
     },
     "execution_count": 28,
     "metadata": {},
     "output_type": "execute_result"
    }
   ],
   "source": [
    "re.findall(r\"\\w\",\"python134 ty@#$%3\\t\")"
   ]
  },
  {
   "cell_type": "code",
   "execution_count": 30,
   "id": "409ee535-a069-4504-8d0c-196dd5aeb83e",
   "metadata": {},
   "outputs": [
    {
     "data": {
      "text/plain": [
       "[' ', '@', '#', '%']"
      ]
     },
     "execution_count": 30,
     "metadata": {},
     "output_type": "execute_result"
    }
   ],
   "source": [
    "re.findall(r\"\\W\",\"python @#3_6648%\")"
   ]
  },
  {
   "cell_type": "code",
   "execution_count": 32,
   "id": "5d9d3f52-b375-403a-94a7-7282ec8f9ae0",
   "metadata": {},
   "outputs": [
    {
     "data": {
      "text/plain": [
       "['234', '84']"
      ]
     },
     "execution_count": 32,
     "metadata": {},
     "output_type": "execute_result"
    }
   ],
   "source": [
    "re.findall(r\"\\d+\",\"program 234 ri84tew\")"
   ]
  },
  {
   "cell_type": "code",
   "execution_count": 35,
   "id": "1ea23b5c-4426-4ee1-b0dd-e63000dc45bb",
   "metadata": {},
   "outputs": [
    {
     "data": {
      "text/plain": [
       "['656', '759', '874']"
      ]
     },
     "execution_count": 35,
     "metadata": {},
     "output_type": "execute_result"
    }
   ],
   "source": [
    "re.findall(r\"\\d{3}\",\"6564 7598748hello98 \")"
   ]
  },
  {
   "cell_type": "code",
   "execution_count": 38,
   "id": "faf08a93-b1e6-45ea-b777-2ca3ed8744d6",
   "metadata": {},
   "outputs": [
    {
     "data": {
      "text/plain": [
       "['hello', 'world']"
      ]
     },
     "execution_count": 38,
     "metadata": {},
     "output_type": "execute_result"
    }
   ],
   "source": [
    "re.findall(r\"\\D+\",\"hello3567world\")"
   ]
  },
  {
   "cell_type": "code",
   "execution_count": 39,
   "id": "e13380c2-a4e6-48b8-b135-bc2b36546e9c",
   "metadata": {},
   "outputs": [
    {
     "data": {
      "text/plain": [
       "['Tab', 'Separated', 'world']"
      ]
     },
     "execution_count": 39,
     "metadata": {},
     "output_type": "execute_result"
    }
   ],
   "source": [
    "re.findall(r\"\\S+\",\"Tab\\tSeparated world\")"
   ]
  },
  {
   "cell_type": "code",
   "execution_count": 41,
   "id": "d71c187b-5327-45c7-aa5d-c3e4deb61b4b",
   "metadata": {},
   "outputs": [
    {
     "data": {
      "text/plain": [
       "['#', '@', '&', '%', '$', '#']"
      ]
     },
     "execution_count": 41,
     "metadata": {},
     "output_type": "execute_result"
    }
   ],
   "source": [
    "word=\"helllo#6wo@&%$#rld\"\n",
    "re.findall(r\"\\W\",word)"
   ]
  },
  {
   "cell_type": "markdown",
   "id": "1856eafd-4869-4b18-889b-e2176c9fc247",
   "metadata": {},
   "source": [
    "### Metacharacters"
   ]
  },
  {
   "cell_type": "code",
   "execution_count": null,
   "id": "589d29df-c20d-4e3c-9582-c01ba141cadc",
   "metadata": {},
   "outputs": [],
   "source": [
    "  []-A set of characters"
   ]
  },
  {
   "cell_type": "code",
   "execution_count": 42,
   "id": "a8494393-636e-42fb-86d1-b066ecb706a0",
   "metadata": {},
   "outputs": [
    {
     "data": {
      "text/plain": [
       "['data']"
      ]
     },
     "execution_count": 42,
     "metadata": {},
     "output_type": "execute_result"
    }
   ],
   "source": [
    "import re\n",
    "text=\"data science\"\n",
    "word=\"data\"\n",
    "re.findall(word,text)"
   ]
  },
  {
   "cell_type": "code",
   "execution_count": 44,
   "id": "36dbed8b-a749-4ce5-803a-bfa22bc5ac15",
   "metadata": {},
   "outputs": [
    {
     "data": {
      "text/plain": [
       "['da', 'a', 'cie', 'ce']"
      ]
     },
     "execution_count": 44,
     "metadata": {},
     "output_type": "execute_result"
    }
   ],
   "source": [
    "text=\"data science\"\n",
    "word=r\"[a-m]+\"\n",
    "re.findall(word,text)"
   ]
  },
  {
   "cell_type": "code",
   "execution_count": 46,
   "id": "08703464-652d-4e54-9a8f-a4186d313624",
   "metadata": {},
   "outputs": [
    {
     "data": {
      "text/plain": [
       "['2346', '34']"
      ]
     },
     "execution_count": 46,
     "metadata": {},
     "output_type": "execute_result"
    }
   ],
   "source": [
    "re.findall(r\"[0-9]+\",\"order2346 rfs34\")"
   ]
  },
  {
   "cell_type": "code",
   "execution_count": 47,
   "id": "362960dc-a35b-478c-8d5a-7716c920ba80",
   "metadata": {},
   "outputs": [
    {
     "data": {
      "text/plain": [
       "['2', '3', '4', '6', '3', '4']"
      ]
     },
     "execution_count": 47,
     "metadata": {},
     "output_type": "execute_result"
    }
   ],
   "source": [
    "re.findall(r\"[0-9]\",\"order2346 rfs34\")"
   ]
  },
  {
   "cell_type": "code",
   "execution_count": 48,
   "id": "e5148612-5bf2-49c1-a933-3bc3ff08fb79",
   "metadata": {},
   "outputs": [
    {
     "data": {
      "text/plain": [
       "['a', 'a', 'i', 'e', 'e', 'o']"
      ]
     },
     "execution_count": 48,
     "metadata": {},
     "output_type": "execute_result"
    }
   ],
   "source": [
    "re.findall(r\"[aeiou]\",\"datascience689python\")"
   ]
  },
  {
   "cell_type": "code",
   "execution_count": 52,
   "id": "a5cecfa3-6218-413b-af5f-4086e6078257",
   "metadata": {},
   "outputs": [
    {
     "data": {
      "text/plain": [
       "['python', 'program376930']"
      ]
     },
     "execution_count": 52,
     "metadata": {},
     "output_type": "execute_result"
    }
   ],
   "source": [
    "re.findall(r\"[a-zA-Z0-9]+\",\"python program376930\")"
   ]
  },
  {
   "cell_type": "code",
   "execution_count": 53,
   "id": "6ed69f98-4b57-4f0f-b936-4e8213038e73",
   "metadata": {},
   "outputs": [
    {
     "data": {
      "text/plain": [
       "['p',\n",
       " 'y',\n",
       " 't',\n",
       " 'h',\n",
       " 'o',\n",
       " 'n',\n",
       " 'p',\n",
       " 'r',\n",
       " 'o',\n",
       " 'g',\n",
       " 'r',\n",
       " 'a',\n",
       " 'm',\n",
       " '3',\n",
       " '7',\n",
       " '6',\n",
       " '9',\n",
       " '3',\n",
       " '0']"
      ]
     },
     "execution_count": 53,
     "metadata": {},
     "output_type": "execute_result"
    }
   ],
   "source": [
    "re.findall(r\"[a-zA-Z0-9]\",\"python program376930\")"
   ]
  },
  {
   "cell_type": "code",
   "execution_count": 59,
   "id": "a5e78a9b-f0f5-4af4-b1ef-0031567cee7b",
   "metadata": {},
   "outputs": [
    {
     "data": {
      "text/plain": [
       "['h_llo']"
      ]
     },
     "execution_count": 59,
     "metadata": {},
     "output_type": "execute_result"
    }
   ],
   "source": [
    "re.findall(r\"h.llo\",\"he2llo h_llo\")"
   ]
  },
  {
   "cell_type": "code",
   "execution_count": 61,
   "id": "b5504125-4424-4980-a6e8-70180bd86a70",
   "metadata": {},
   "outputs": [
    {
     "data": {
      "text/plain": [
       "['py', 'th', 'on', ' p', 'ro', 'gr', 'am', '@#', '$%', '77']"
      ]
     },
     "execution_count": 61,
     "metadata": {},
     "output_type": "execute_result"
    }
   ],
   "source": [
    "re.findall(r\"..\",\"python program@#$%778\")"
   ]
  },
  {
   "cell_type": "code",
   "execution_count": 62,
   "id": "2e660110-9a16-4e4c-9be8-aa4188b20059",
   "metadata": {},
   "outputs": [
    {
     "data": {
      "text/plain": [
       "['data', 'e ta', 'a ba', 'a ca', 'a da']"
      ]
     },
     "execution_count": 62,
     "metadata": {},
     "output_type": "execute_result"
    }
   ],
   "source": [
    "word=\"data science tata baata cata data\"\n",
    "re.findall(r\".{3}a\",word)"
   ]
  },
  {
   "cell_type": "code",
   "execution_count": 66,
   "id": "721fd71d-5c0c-49b1-9628-33d626ece4e2",
   "metadata": {},
   "outputs": [
    {
     "data": {
      "text/plain": [
       "[]"
      ]
     },
     "execution_count": 66,
     "metadata": {},
     "output_type": "execute_result"
    }
   ],
   "source": [
    "re.findall(r\"^2025\",\"good year 2025\")"
   ]
  },
  {
   "cell_type": "code",
   "execution_count": 67,
   "id": "7e5eb382-f15e-426f-8bb1-650305a46ad9",
   "metadata": {},
   "outputs": [
    {
     "data": {
      "text/plain": [
       "['2025']"
      ]
     },
     "execution_count": 67,
     "metadata": {},
     "output_type": "execute_result"
    }
   ],
   "source": [
    "re.findall(r\"^2025\",\"2025 good year \")\n",
    "##^ string starts with the pattern"
   ]
  },
  {
   "cell_type": "code",
   "execution_count": 69,
   "id": "f4437dc2-4dfe-4403-be15-3d7575a2cdd7",
   "metadata": {},
   "outputs": [
    {
     "data": {
      "text/plain": [
       "['!']"
      ]
     },
     "execution_count": 69,
     "metadata": {},
     "output_type": "execute_result"
    }
   ],
   "source": [
    "re.findall(r\"!$\",\"2025 good year 2025!\")\n",
    "#$ string end with the $"
   ]
  },
  {
   "cell_type": "code",
   "execution_count": 70,
   "id": "0425033e-c5b4-45ce-965d-7f298c9228e0",
   "metadata": {},
   "outputs": [
    {
     "name": "stdout",
     "output_type": "stream",
     "text": [
      "['Hello']\n"
     ]
    }
   ],
   "source": [
    "print(re.findall(r\"^Hello\", \"Hello World\"))"
   ]
  },
  {
   "cell_type": "code",
   "execution_count": 71,
   "id": "73cb4a7b-b7ad-44a4-a384-8a29ae2c786f",
   "metadata": {},
   "outputs": [
    {
     "name": "stdout",
     "output_type": "stream",
     "text": [
      "['Mr.']\n"
     ]
    }
   ],
   "source": [
    "print(re.findall(r\"^Mr\\.\", \"Mr. John\"))"
   ]
  },
  {
   "cell_type": "code",
   "execution_count": 74,
   "id": "27d67568-7201-4e92-879d-f9ecaf7ff265",
   "metadata": {},
   "outputs": [
    {
     "data": {
      "text/plain": [
       "['+91']"
      ]
     },
     "execution_count": 74,
     "metadata": {},
     "output_type": "execute_result"
    }
   ],
   "source": [
    "re.findall(r\"^\\+91\",\"+91990067643\")"
   ]
  },
  {
   "cell_type": "code",
   "execution_count": 75,
   "id": "bca30d4e-40fd-45bb-baaa-1af02bd49278",
   "metadata": {},
   "outputs": [
    {
     "data": {
      "text/plain": [
       "['3']"
      ]
     },
     "execution_count": 75,
     "metadata": {},
     "output_type": "execute_result"
    }
   ],
   "source": [
    "re.findall(r\"\\d$\",\"order123\")\n",
    "#$ means the last digit"
   ]
  },
  {
   "cell_type": "code",
   "execution_count": 79,
   "id": "2f155b6f-80eb-4e13-ba17-541ad0ae10dc",
   "metadata": {},
   "outputs": [
    {
     "data": {
      "text/plain": [
       "[]"
      ]
     },
     "execution_count": 79,
     "metadata": {},
     "output_type": "execute_result"
    }
   ],
   "source": [
    "re.findall(r\"^\\d\",\"hello world\")"
   ]
  },
  {
   "cell_type": "code",
   "execution_count": 80,
   "id": "cfc662da-9d15-4d09-9586-05f12f5918f9",
   "metadata": {},
   "outputs": [
    {
     "data": {
      "text/plain": [
       "['.com']"
      ]
     },
     "execution_count": 80,
     "metadata": {},
     "output_type": "execute_result"
    }
   ],
   "source": [
    "text=\"abc@gmail.com\"\n",
    "pattern=r\".com$\"\n",
    "re.findall(pattern,text)"
   ]
  },
  {
   "cell_type": "code",
   "execution_count": null,
   "id": "4a87b55d-a0cd-454a-a1cb-4a1743d3fe98",
   "metadata": {},
   "outputs": [],
   "source": []
  }
 ],
 "metadata": {
  "kernelspec": {
   "display_name": "Python 3 (ipykernel)",
   "language": "python",
   "name": "python3"
  },
  "language_info": {
   "codemirror_mode": {
    "name": "ipython",
    "version": 3
   },
   "file_extension": ".py",
   "mimetype": "text/x-python",
   "name": "python",
   "nbconvert_exporter": "python",
   "pygments_lexer": "ipython3",
   "version": "3.13.7"
  }
 },
 "nbformat": 4,
 "nbformat_minor": 5
}
