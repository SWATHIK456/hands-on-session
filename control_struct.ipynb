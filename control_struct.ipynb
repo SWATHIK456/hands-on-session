{
 "cells": [
  {
   "cell_type": "code",
   "execution_count": 2,
   "id": "5280cd8f-e16e-4ab2-8bd4-a1164a5e9a0e",
   "metadata": {},
   "outputs": [
    {
     "name": "stdin",
     "output_type": "stream",
     "text": [
      "enter a number 65\n"
     ]
    },
    {
     "name": "stdout",
     "output_type": "stream",
     "text": [
      "positive\n"
     ]
    }
   ],
   "source": [
    "num=int(input(\"enter a number\"))\n",
    "if num>0:\n",
    "    print(\"positive\")\n",
    "elif num<0:\n",
    "    print(\"negative\")\n",
    "else:\n",
    "    print(\"zero\")"
   ]
  },
  {
   "cell_type": "code",
   "execution_count": 3,
   "id": "e7f894cd-884d-46cd-907c-0c1089f797fe",
   "metadata": {},
   "outputs": [
    {
     "name": "stdin",
     "output_type": "stream",
     "text": [
      " 78\n"
     ]
    },
    {
     "data": {
      "text/plain": [
       "88"
      ]
     },
     "execution_count": 3,
     "metadata": {},
     "output_type": "execute_result"
    }
   ],
   "source": [
    "x=10\n",
    "y=int(input())\n",
    "y=x+y\n",
    "y"
   ]
  },
  {
   "cell_type": "code",
   "execution_count": 4,
   "id": "60404439-76b8-4fc4-8559-66e5a568387f",
   "metadata": {},
   "outputs": [
    {
     "name": "stdin",
     "output_type": "stream",
     "text": [
      " 87\n"
     ]
    },
    {
     "name": "stdout",
     "output_type": "stream",
     "text": [
      "grade 1\n"
     ]
    }
   ],
   "source": [
    "x=int(input())\n",
    "if x>=80:\n",
    "    print(\"grade 1\")\n",
    "else:\n",
    "    print(\"grade2\")\n",
    "    "
   ]
  },
  {
   "cell_type": "code",
   "execution_count": 5,
   "id": "28f3312a-9a36-473d-8031-d6f16328ef99",
   "metadata": {},
   "outputs": [
    {
     "name": "stdout",
     "output_type": "stream",
     "text": [
      "data\n"
     ]
    }
   ],
   "source": [
    "x=20\n",
    "if x>10:\n",
    "    print(\"data\")\n",
    "else:\n",
    "    print(\"science\")"
   ]
  },
  {
   "cell_type": "code",
   "execution_count": 6,
   "id": "3bbbf4a4-6dcd-4ea9-a3aa-ea17b9943539",
   "metadata": {},
   "outputs": [
    {
     "name": "stdout",
     "output_type": "stream",
     "text": [
      "test\n"
     ]
    }
   ],
   "source": [
    "if 0:\n",
    "    print(\"data\")\n",
    "else:\n",
    "    print(\"test\")"
   ]
  },
  {
   "cell_type": "code",
   "execution_count": 7,
   "id": "2b39e34c-03b3-4c5a-b83e-96ed62f70e79",
   "metadata": {},
   "outputs": [
    {
     "name": "stdout",
     "output_type": "stream",
     "text": [
      "data\n"
     ]
    }
   ],
   "source": [
    "x=\"Data\"\n",
    "if(len(x)%2==0 and x.startswith(\"D\")):\n",
    "    print(\"data\")"
   ]
  },
  {
   "cell_type": "code",
   "execution_count": 8,
   "id": "974ffb95-c1dc-4682-95bb-24e5ee92eac9",
   "metadata": {},
   "outputs": [
    {
     "name": "stdout",
     "output_type": "stream",
     "text": [
      "test\n",
      "test1\n",
      "15\n"
     ]
    }
   ],
   "source": [
    "x=20\n",
    "if x>4:\n",
    "    print(\"test\")\n",
    "    print(\"test1\")\n",
    "    x=2+3\n",
    "    y=10\n",
    "    print(x+y)"
   ]
  },
  {
   "cell_type": "code",
   "execution_count": 9,
   "id": "0552ea8b-5f4a-465d-b2a4-3091274d9c12",
   "metadata": {},
   "outputs": [
    {
     "name": "stdin",
     "output_type": "stream",
     "text": [
      "enter a number 87\n"
     ]
    },
    {
     "name": "stdout",
     "output_type": "stream",
     "text": [
      " Grade B\n"
     ]
    }
   ],
   "source": [
    "marks=int(input(\"enter a number\"))\n",
    "if marks>=90:\n",
    "    print(\"grade A\")\n",
    "elif marks>=75:\n",
    "     print(\" Grade B\")\n",
    "elif marks>=60:\n",
    "    print(\"Grade C\")\n",
    "elif marks>=45:\n",
    "    print(\"Grade D\")\n",
    "else:\n",
    "    print(\"Grade E\")"
   ]
  },
  {
   "cell_type": "code",
   "execution_count": 10,
   "id": "7decd70c-f509-40d5-90b9-2ef5b89d560d",
   "metadata": {},
   "outputs": [
    {
     "name": "stdin",
     "output_type": "stream",
     "text": [
      "enter a word i\n"
     ]
    },
    {
     "name": "stdout",
     "output_type": "stream",
     "text": [
      "vowel\n"
     ]
    }
   ],
   "source": [
    "char=input(\"enter a word\")\n",
    "if char in 'aeiou':\n",
    "    print(\"vowel\")\n",
    "else:\n",
    "    print(\"consonent\")"
   ]
  },
  {
   "cell_type": "code",
   "execution_count": 11,
   "id": "a39cd11e-3bce-402e-98cb-92a657b76d5a",
   "metadata": {},
   "outputs": [
    {
     "name": "stdin",
     "output_type": "stream",
     "text": [
      "enter a word yffj\n"
     ]
    },
    {
     "name": "stdout",
     "output_type": "stream",
     "text": [
      "to short\n"
     ]
    }
   ],
   "source": [
    "word=input(\"enter a word\")\n",
    "if len(word)<5:\n",
    "    print(\"to short\")\n",
    "elif len(word)>15:\n",
    "    print(\"to long\")\n",
    "else:\n",
    "    print(\"valid username\")"
   ]
  },
  {
   "cell_type": "code",
   "execution_count": 12,
   "id": "da0d964c-dad6-4dc4-af7b-eb0374a11486",
   "metadata": {},
   "outputs": [
    {
     "name": "stdout",
     "output_type": "stream",
     "text": [
      "d,a,t,a,"
     ]
    }
   ],
   "source": [
    "for i in \"data123\":\n",
    "    if i.isalpha():\n",
    "        print(i,end=\",\")"
   ]
  },
  {
   "cell_type": "code",
   "execution_count": 13,
   "id": "621cb292-e8f3-4a98-b1c4-95e9c611a0ec",
   "metadata": {},
   "outputs": [
    {
     "data": {
      "text/plain": [
       "'11data'"
      ]
     },
     "execution_count": 13,
     "metadata": {},
     "output_type": "execute_result"
    }
   ],
   "source": [
    "'1'+'1'+\"data\""
   ]
  },
  {
   "cell_type": "code",
   "execution_count": 14,
   "id": "0c6a3251-d59a-4fd0-b7d8-7a5ae6f7160a",
   "metadata": {},
   "outputs": [
    {
     "name": "stdout",
     "output_type": "stream",
     "text": [
      "1,3,5,7,9,11,13,15,17,19,"
     ]
    }
   ],
   "source": [
    "for i in range(1,20,2):\n",
    "    print(i,end=',')"
   ]
  },
  {
   "cell_type": "code",
   "execution_count": 15,
   "id": "0c92c4f5-d332-4359-b5cb-d74883169de6",
   "metadata": {},
   "outputs": [
    {
     "name": "stdout",
     "output_type": "stream",
     "text": [
      "*****\n",
      "****\n",
      "***\n",
      "**\n",
      "*\n"
     ]
    }
   ],
   "source": [
    "for i in range(1,6):\n",
    "    print(\"*\"*(6-i))"
   ]
  },
  {
   "cell_type": "code",
   "execution_count": 16,
   "id": "e43b88c6-ed92-4040-87ef-0426d28401b0",
   "metadata": {},
   "outputs": [
    {
     "name": "stdout",
     "output_type": "stream",
     "text": [
      "*\n",
      "**\n",
      "***\n",
      "****\n",
      "*****\n"
     ]
    }
   ],
   "source": [
    "for i in range(1,6,1):\n",
    "    print(\"*\"*i)"
   ]
  },
  {
   "cell_type": "code",
   "execution_count": 17,
   "id": "f23b647e-d5e6-4f17-b551-9676daba4a20",
   "metadata": {},
   "outputs": [
    {
     "name": "stdout",
     "output_type": "stream",
     "text": [
      "******\n",
      "*****\n",
      "****\n",
      "***\n",
      "**\n",
      "*\n"
     ]
    }
   ],
   "source": [
    "for i in range(6,0,-1):\n",
    "    print(\"*\"*i)"
   ]
  },
  {
   "cell_type": "code",
   "execution_count": 18,
   "id": "a4906a96-da3f-40d2-a109-c5cdec8c6c1c",
   "metadata": {},
   "outputs": [],
   "source": [
    "customer_review ='''customers find the laptop's build quality good, with one \n",
    "noting its premium look and feel, and consider it good value\n",
    " for money. Moreover, the sound quality is acceptable, and \n",
    " they find it suitable for student use. However, the performance \n",
    " receives mixed feedback, with some finding it satisfying while others \n",
    " describe it as extremely bad. Additionally, the fingerprint sensor is not available, \n",
    "and customers report poor battery performance.'''"
   ]
  },
  {
   "cell_type": "code",
   "execution_count": 19,
   "id": "d2236e7e-4c18-4fad-88bc-db83f95d4373",
   "metadata": {},
   "outputs": [
    {
     "name": "stdout",
     "output_type": "stream",
     "text": [
      "customers find the laptop's build quality good, with one \n",
      "noting its premium look and feel, and consider it good value\n",
      " for money. Moreover, the sound quality is acceptable, and \n",
      " they find it suitable for student use. However, the performance \n",
      " receives mixed feedback, with some finding it satisfying while others \n",
      " describe it as extremely bad. Additionally, the fingerprint sensor is not available, \n",
      "and customers report poor battery performance.\n"
     ]
    }
   ],
   "source": [
    "print(customer_review)"
   ]
  },
  {
   "cell_type": "code",
   "execution_count": 23,
   "id": "96ec3309-9ccb-4195-8e2c-9e1ddda691e1",
   "metadata": {},
   "outputs": [],
   "source": [
    "d={}\n",
    "for i in customer_review.split():\n",
    "    d[i]=len(i)"
   ]
  },
  {
   "cell_type": "code",
   "execution_count": 22,
   "id": "e457f037-a18d-45f6-878f-f5a80c2ed475",
   "metadata": {},
   "outputs": [
    {
     "name": "stdout",
     "output_type": "stream",
     "text": [
      "d\n",
      "da\n",
      "dat\n",
      "data\n"
     ]
    }
   ],
   "source": [
    "x='data'\n",
    "for i in range(1,len(x)+1):\n",
    "    print(x[0:i])"
   ]
  },
  {
   "cell_type": "code",
   "execution_count": null,
   "id": "4ffb2d80-dec9-4d5a-950d-cb70135b8af9",
   "metadata": {},
   "outputs": [],
   "source": []
  }
 ],
 "metadata": {
  "kernelspec": {
   "display_name": "Python 3 (ipykernel)",
   "language": "python",
   "name": "python3"
  },
  "language_info": {
   "codemirror_mode": {
    "name": "ipython",
    "version": 3
   },
   "file_extension": ".py",
   "mimetype": "text/x-python",
   "name": "python",
   "nbconvert_exporter": "python",
   "pygments_lexer": "ipython3",
   "version": "3.13.7"
  }
 },
 "nbformat": 4,
 "nbformat_minor": 5
}
