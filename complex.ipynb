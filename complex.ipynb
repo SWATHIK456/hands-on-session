{
 "cells": [
  {
   "cell_type": "code",
   "execution_count": 1,
   "id": "6f4ce412-233a-4777-8258-fafb9fe9b0ba",
   "metadata": {},
   "outputs": [
    {
     "data": {
      "text/plain": [
       "(5+3j)"
      ]
     },
     "execution_count": 1,
     "metadata": {},
     "output_type": "execute_result"
    }
   ],
   "source": [
    "# Question 1: Create complex number 5 + 3j\n",
    "a= 5 + 3j\n",
    "a"
   ]
  },
  {
   "cell_type": "code",
   "execution_count": 2,
   "id": "6586ddd4-4c87-4acf-b9f6-eb2a47d9bb18",
   "metadata": {},
   "outputs": [
    {
     "name": "stdout",
     "output_type": "stream",
     "text": [
      "7.0\n"
     ]
    }
   ],
   "source": [
    "# Question 2: Find the real part of complex number 7 - 2j\n",
    "a=7 - 2j\n",
    "print(a.real)"
   ]
  },
  {
   "cell_type": "code",
   "execution_count": 5,
   "id": "9813c914-e276-4ea6-8480-962f739fc3fe",
   "metadata": {},
   "outputs": [
    {
     "name": "stdout",
     "output_type": "stream",
     "text": [
      "6.0\n"
     ]
    }
   ],
   "source": [
    "# Question 3: Find the imaginary part of complex number 4 + 6j\n",
    "a= 4 + 6j\n",
    "print(a.imag)"
   ]
  },
  {
   "cell_type": "code",
   "execution_count": 7,
   "id": "a082b3e6-abd2-4906-a899-165331de895a",
   "metadata": {},
   "outputs": [
    {
     "name": "stdout",
     "output_type": "stream",
     "text": [
      "(4+6j)\n"
     ]
    }
   ],
   "source": [
    "# Question 4: Add two complex numbers: (3 + 2j) and (1 + 4j)\n",
    "a= (3 + 2j)\n",
    "b=(1 + 4j)\n",
    "c=a+b\n",
    "print(c)"
   ]
  },
  {
   "cell_type": "code",
   "execution_count": 8,
   "id": "29f7a407-0e08-49cb-b36b-b7d1080b396b",
   "metadata": {},
   "outputs": [
    {
     "data": {
      "text/plain": [
       "(-4+7j)"
      ]
     },
     "execution_count": 8,
     "metadata": {},
     "output_type": "execute_result"
    }
   ],
   "source": [
    "# Question 5: Multiply two complex numbers: (2 + 3j) and (1 + 2j)\n",
    "a=(2 + 3j)\n",
    "b=(1 + 2j)\n",
    "a*b"
   ]
  },
  {
   "cell_type": "code",
   "execution_count": 9,
   "id": "7e65cf5e-7d2d-422e-be7c-acf5c51d8e3b",
   "metadata": {},
   "outputs": [
    {
     "name": "stdout",
     "output_type": "stream",
     "text": [
      "10.0\n"
     ]
    }
   ],
   "source": [
    "# Question 6: Find the magnitude of complex number 6 + 8j\n",
    "a=6+8j\n",
    "print(abs(a))"
   ]
  },
  {
   "cell_type": "code",
   "execution_count": 11,
   "id": "357aa6f2-edaf-49ad-8082-d95719285088",
   "metadata": {},
   "outputs": [
    {
     "name": "stdout",
     "output_type": "stream",
     "text": [
      "(5+7j)\n"
     ]
    }
   ],
   "source": [
    "# Question 7: Find the conjugate of complex number 5 - 7j\n",
    "z=5-7j\n",
    "print(z.conjugate())"
   ]
  },
  {
   "cell_type": "code",
   "execution_count": 15,
   "id": "300b0b84-d64d-4bcb-a59b-8f92e0ced2d6",
   "metadata": {},
   "outputs": [
    {
     "name": "stdout",
     "output_type": "stream",
     "text": [
      "(7+3j)\n"
     ]
    }
   ],
   "source": [
    "# Question 8: Subtract complex numbers: (10 + 5j) - (3 + 2j)\n",
    "a=(10 + 5j) - (3 + 2j)\n",
    "print(a)"
   ]
  },
  {
   "cell_type": "code",
   "execution_count": 16,
   "id": "3338b8ef-0786-4d7c-81f0-c4da97ec8119",
   "metadata": {},
   "outputs": [
    {
     "data": {
      "text/plain": [
       "(4.4+0.8j)"
      ]
     },
     "execution_count": 16,
     "metadata": {},
     "output_type": "execute_result"
    }
   ],
   "source": [
    "# Question 9: Divide complex numbers: (8 + 6j) / (2 + 1j)\n",
    "a=(8 + 6j) / (2 + 1j)\n",
    "a"
   ]
  },
  {
   "cell_type": "code",
   "execution_count": 17,
   "id": "3a84001d-6703-43d0-8b22-71989d5af146",
   "metadata": {},
   "outputs": [
    {
     "name": "stdout",
     "output_type": "stream",
     "text": [
      "0.7853981633974483\n"
     ]
    }
   ],
   "source": [
    "# Question 10: Find the phase angle of complex number 1 + 1j\n",
    "import cmath\n",
    "z=complex(1+1j)\n",
    "angle=cmath.phase(z)\n",
    "print(angle)"
   ]
  },
  {
   "cell_type": "code",
   "execution_count": null,
   "id": "6a61abc8-952f-4231-94e9-021c2af6637b",
   "metadata": {},
   "outputs": [],
   "source": []
  }
 ],
 "metadata": {
  "kernelspec": {
   "display_name": "Python 3 (ipykernel)",
   "language": "python",
   "name": "python3"
  },
  "language_info": {
   "codemirror_mode": {
    "name": "ipython",
    "version": 3
   },
   "file_extension": ".py",
   "mimetype": "text/x-python",
   "name": "python",
   "nbconvert_exporter": "python",
   "pygments_lexer": "ipython3",
   "version": "3.13.5"
  }
 },
 "nbformat": 4,
 "nbformat_minor": 5
}
