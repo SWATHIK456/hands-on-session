{
 "cells": [
  {
   "cell_type": "code",
   "execution_count": 1,
   "id": "b89a32eb-1bcc-4eaa-a038-75d6b98179ac",
   "metadata": {},
   "outputs": [],
   "source": [
    "import numpy as np"
   ]
  },
  {
   "cell_type": "code",
   "execution_count": 2,
   "id": "620f5d4d-0998-4157-9b77-e7206d8933f7",
   "metadata": {},
   "outputs": [
    {
     "data": {
      "text/plain": [
       "np.int64(9)"
      ]
     },
     "execution_count": 2,
     "metadata": {},
     "output_type": "execute_result"
    }
   ],
   "source": [
    "#2Which store recorded the **highest sales**?\n",
    "\n",
    "retail_data=np.array([[    1, 25000,   300,  1200,    10],\n",
    "       [    2, 32000,   450,  1500,    15],\n",
    "       [    3, 28000,   380,  1100,     8],\n",
    "       [    4, 41000,   500,  1600,    20],\n",
    "       [    5, 35000,   420,  1400,    12],\n",
    "       [    6, 27000,   360,  1300,     9],\n",
    "       [    7, 39000,   480,  1700,    18],\n",
    "       [    8, 30000,   400,  1250,    14],\n",
    "       [    9, 45000,   550,  1800,    25],\n",
    "       [   10, 33000,   410,  1450,    11]])\n",
    "\n",
    "\n",
    "retail_data[:,1].argmax()+1\n"
   ]
  },
  {
   "cell_type": "code",
   "execution_count": 3,
   "id": "c036d384-921b-44f1-a2d6-e8a76047484c",
   "metadata": {},
   "outputs": [
    {
     "data": {
      "text/plain": [
       "np.int64(4790500000)"
      ]
     },
     "execution_count": 3,
     "metadata": {},
     "output_type": "execute_result"
    }
   ],
   "source": [
    "#1What is the **total revenue** generated across all stores?\n",
    "total_rev=retail_data[:,1].sum()*retail_data[:,3].sum()\n",
    "total_rev"
   ]
  },
  {
   "cell_type": "code",
   "execution_count": 4,
   "id": "f133bcab-48a1-42f2-b379-5d350512ee7b",
   "metadata": {},
   "outputs": [
    {
     "data": {
      "text/plain": [
       "np.int64(1)"
      ]
     },
     "execution_count": 4,
     "metadata": {},
     "output_type": "execute_result"
    }
   ],
   "source": [
    "#3 Which store recorded the **lowest sales**?\n",
    "retail_data[:1].argmin()+1"
   ]
  },
  {
   "cell_type": "code",
   "execution_count": 5,
   "id": "7551a042-865e-40ca-a126-706d6ac51375",
   "metadata": {},
   "outputs": [
    {
     "data": {
      "text/plain": [
       "np.float64(33500.0)"
      ]
     },
     "execution_count": 5,
     "metadata": {},
     "output_type": "execute_result"
    }
   ],
   "source": [
    "#4. What is the **average daily sales** per store?\n",
    "retail_data[:,1].sum()/10"
   ]
  },
  {
   "cell_type": "code",
   "execution_count": 6,
   "id": "8410b3a2-c23d-44f1-aa1d-6e5a85655e57",
   "metadata": {},
   "outputs": [
    {
     "data": {
      "text/plain": [
       "array([41000, 39000, 45000])"
      ]
     },
     "execution_count": 6,
     "metadata": {},
     "output_type": "execute_result"
    }
   ],
   "source": [
    "#5. How many stores achieved sales **above ₹35,000**?\n",
    "data=retail_data[:,1]\n",
    "data[data>35000]"
   ]
  },
  {
   "cell_type": "markdown",
   "id": "47ec2584-02a9-4f95-80b8-03a0e53c940b",
   "metadata": {},
   "source": [
    "##customer insights"
   ]
  },
  {
   "cell_type": "code",
   "execution_count": 7,
   "id": "4fe23edb-f506-4d5e-92c8-97f0109a398f",
   "metadata": {},
   "outputs": [
    {
     "data": {
      "text/plain": [
       "np.int64(9)"
      ]
     },
     "execution_count": 7,
     "metadata": {},
     "output_type": "execute_result"
    }
   ],
   "source": [
    "#6. Which store had the **highest customer footfall**?\n",
    "retail_data[:,2].argmax()+1\n"
   ]
  },
  {
   "cell_type": "code",
   "execution_count": 8,
   "id": "c07b3a9a-026f-4d24-8b57-b1d4583d456e",
   "metadata": {},
   "outputs": [
    {
     "data": {
      "text/plain": [
       "np.float64(425.0)"
      ]
     },
     "execution_count": 8,
     "metadata": {},
     "output_type": "execute_result"
    }
   ],
   "source": [
    "#7. What is the **average number of customers** per store?\n",
    "retail_data[:,2].sum()/10"
   ]
  },
  {
   "cell_type": "code",
   "execution_count": 9,
   "id": "60b31364-57ab-4153-89ea-f2eb9c669fd7",
   "metadata": {},
   "outputs": [
    {
     "data": {
      "text/plain": [
       "array([500, 480, 550])"
      ]
     },
     "execution_count": 9,
     "metadata": {},
     "output_type": "execute_result"
    }
   ],
   "source": [
    "#8. How many stores have **more than 450 customers**?\n",
    "data=retail_data[:,2]\n",
    "data[data>450]"
   ]
  },
  {
   "cell_type": "code",
   "execution_count": 10,
   "id": "f758f76f-a9be-43c3-8855-74f62018d6bc",
   "metadata": {},
   "outputs": [
    {
     "data": {
      "text/plain": [
       "np.int64(1)"
      ]
     },
     "execution_count": 10,
     "metadata": {},
     "output_type": "execute_result"
    }
   ],
   "source": [
    "#9. Which store has the **lowest customer count**?\n",
    "retail_data[:,2].argmin()+1"
   ]
  },
  {
   "cell_type": "code",
   "execution_count": 11,
   "id": "c4ac895f-f04e-4787-a11b-726bf8e8da53",
   "metadata": {},
   "outputs": [
    {
     "data": {
      "text/plain": [
       "array([[    5, 35000,   420,  1400,    12]])"
      ]
     },
     "execution_count": 11,
     "metadata": {},
     "output_type": "execute_result"
    }
   ],
   "source": [
    "#10. Is there any store where **high sales do not correspond to high customers**?\n",
    "sal=retail_data[:,1].mean()\n",
    "cus=retail_data[:,2].mean()\n",
    "total=retail_data[(retail_data[:,1]>sal)&(retail_data[:,2]<cus)]\n",
    "total"
   ]
  },
  {
   "cell_type": "markdown",
   "id": "e834fed8-acd3-43db-bba4-4062bf8f23dc",
   "metadata": {},
   "source": [
    " ##Inventory and returns analysis   "
   ]
  },
  {
   "cell_type": "code",
   "execution_count": 12,
   "id": "1fc405ba-6615-429e-80c3-c870e11cd8fc",
   "metadata": {},
   "outputs": [
    {
     "data": {
      "text/plain": [
       "np.int64(14300)"
      ]
     },
     "execution_count": 12,
     "metadata": {},
     "output_type": "execute_result"
    }
   ],
   "source": [
    "#11. What is the **total inventory** across all stores?\n",
    "retail_data[:,3].sum()"
   ]
  },
  {
   "cell_type": "code",
   "execution_count": 13,
   "id": "aa94d58e-a562-48a9-9b6b-1f451dc16220",
   "metadata": {},
   "outputs": [
    {
     "data": {
      "text/plain": [
       "np.int64(9)"
      ]
     },
     "execution_count": 13,
     "metadata": {},
     "output_type": "execute_result"
    }
   ],
   "source": [
    "#12. Which store has the **highest inventory stock**?\n",
    "retail_data[:,3].argmax()+1"
   ]
  },
  {
   "cell_type": "code",
   "execution_count": 14,
   "id": "daf21f2b-735e-47f6-8391-082fb05fec46",
   "metadata": {},
   "outputs": [
    {
     "data": {
      "text/plain": [
       "array([1200, 1100, 1250])"
      ]
     },
     "execution_count": 14,
     "metadata": {},
     "output_type": "execute_result"
    }
   ],
   "source": [
    "#13. How many stores have **inventory less than 1300 units**?\n",
    "data=retail_data[:,3]\n",
    "data[data<1300]"
   ]
  },
  {
   "cell_type": "code",
   "execution_count": 15,
   "id": "cae3ff1d-20dc-4b36-8271-96462b571cca",
   "metadata": {},
   "outputs": [
    {
     "data": {
      "text/plain": [
       "array([2.25 , 2.875, 2.   , 3.5  , 2.5  , 2.125, 3.25 , 2.75 , 4.125,\n",
       "       2.375])"
      ]
     },
     "execution_count": 15,
     "metadata": {},
     "output_type": "execute_result"
    }
   ],
   "source": [
    "#14. Which store has the **highest return rate** (returns ÷ inventory)?\n",
    "data=retail_data[:,4]/retail_data[:,3].argmax()+1\n",
    "data"
   ]
  },
  {
   "cell_type": "code",
   "execution_count": 16,
   "id": "5f4883eb-ff3a-4cd8-a289-04334f322189",
   "metadata": {},
   "outputs": [
    {
     "data": {
      "text/plain": [
       "array([[    4, 41000,   500,  1600,    20],\n",
       "       [    7, 39000,   480,  1700,    18],\n",
       "       [    9, 45000,   550,  1800,    25]])"
      ]
     },
     "execution_count": 16,
     "metadata": {},
     "output_type": "execute_result"
    }
   ],
   "source": [
    "#15. Which stores have **returns greater than 15 units**?\n",
    "data=retail_data[retail_data[:,4]>15]\n",
    "data"
   ]
  },
  {
   "cell_type": "markdown",
   "id": "2e7d09a9-87ee-481b-b4f5-75b0c482ee5b",
   "metadata": {},
   "source": [
    "##Sales & Customer Correlation"
   ]
  },
  {
   "cell_type": "code",
   "execution_count": 17,
   "id": "f4e683e1-7bd0-4a4f-8bc3-65ff3059ba95",
   "metadata": {},
   "outputs": [
    {
     "data": {
      "text/plain": [
       "np.float64(0.9593636912502479)"
      ]
     },
     "execution_count": 17,
     "metadata": {},
     "output_type": "execute_result"
    }
   ],
   "source": [
    "#16. Is there a **positive correlation** between sales and customers?\n",
    "import numpy as np\n",
    "sales=retail_data[:,1]\n",
    "customer=retail_data[:,2]\n",
    "correlation=np.corrcoef(sales,customer)[0,1]\n",
    "correlation"
   ]
  },
  {
   "cell_type": "code",
   "execution_count": null,
   "id": "2de42641-1f8b-4216-9a76-072745b620d6",
   "metadata": {},
   "outputs": [],
   "source": []
  },
  {
   "cell_type": "code",
   "execution_count": null,
   "id": "cea441d7-8efb-4a87-8553-d6b57d72d9bf",
   "metadata": {},
   "outputs": [],
   "source": []
  },
  {
   "cell_type": "code",
   "execution_count": 18,
   "id": "97b04d77-8ea4-479a-ad5f-29dcc922ea7a",
   "metadata": {},
   "outputs": [
    {
     "data": {
      "text/plain": [
       "array([[    2, 32000,   450,  1500,    15]])"
      ]
     },
     "execution_count": 18,
     "metadata": {},
     "output_type": "execute_result"
    }
   ],
   "source": [
    "#17. Which store has **high customer visits but low sales**?\n",
    "sales=retail_data[:,1].mean()\n",
    "customer=retail_data[:,2].mean()\n",
    "total=retail_data[(retail_data[:,2]>customer)&(retail_data[:,1]<sal)]\n",
    "total"
   ]
  },
  {
   "cell_type": "code",
   "execution_count": 19,
   "id": "09ce8ef3-ecd1-4def-a2b1-e980d321f195",
   "metadata": {},
   "outputs": [
    {
     "data": {
      "text/plain": [
       "array([[    5, 35000,   420,  1400,    12]])"
      ]
     },
     "execution_count": 19,
     "metadata": {},
     "output_type": "execute_result"
    }
   ],
   "source": [
    "#18. Which store has **low customers but high sales**?\n",
    "sales=retail_data[:,1].mean()\n",
    "customer=retail_data[:,2].mean()\n",
    "total=retail_data[(retail_data[:,2]<customer)&(retail_data[:,1]>sal)]\n",
    "total"
   ]
  },
  {
   "cell_type": "code",
   "execution_count": 20,
   "id": "587df414-3dfe-4392-b1d1-0fed0ac9c880",
   "metadata": {},
   "outputs": [
    {
     "data": {
      "text/plain": [
       "np.int64(0)"
      ]
     },
     "execution_count": 20,
     "metadata": {},
     "output_type": "execute_result"
    }
   ],
   "source": [
    "# 19. How many stores have **sales per customer above ₹90**?\n",
    "dat = retail_data[:,1] / retail_data[:,2]\n",
    "res = np.sum(dat > 90)\n",
    "res"
   ]
  },
  {
   "cell_type": "code",
   "execution_count": 21,
   "id": "66adeeff-c32f-42a1-8b4d-2db554987e4a",
   "metadata": {},
   "outputs": [],
   "source": [
    "#20. Which stores could **benefit from customer acquisition campaigns** (low customers, high inventory)?"
   ]
  },
  {
   "cell_type": "markdown",
   "id": "10a169ec-57e0-462c-872c-ae698baf08e9",
   "metadata": {},
   "source": [
    "#### Profitability & Growth"
   ]
  },
  {
   "cell_type": "code",
   "execution_count": 22,
   "id": "8c073b76-ad27-41ad-8794-16aa8ea3f802",
   "metadata": {},
   "outputs": [
    {
     "data": {
      "text/plain": [
       "array([5000., 6400., 5600., 8200., 7000., 5400., 7800., 6000., 9000.,\n",
       "       6600.])"
      ]
     },
     "execution_count": 22,
     "metadata": {},
     "output_type": "execute_result"
    }
   ],
   "source": [
    "#21. If profit margin is **20% of sales**, what is the **profit per store**?\n",
    "data=0.20*retail_data[:,1]\n",
    "data"
   ]
  },
  {
   "cell_type": "code",
   "execution_count": 23,
   "id": "e655d650-04ef-404d-9b70-13b860a4f2b0",
   "metadata": {},
   "outputs": [
    {
     "data": {
      "text/plain": [
       "np.int64(9)"
      ]
     },
     "execution_count": 23,
     "metadata": {},
     "output_type": "execute_result"
    }
   ],
   "source": [
    "#22. Which store has the **highest profit**?\n",
    "(0.20*retail_data[:,1]).argmax()+1\n"
   ]
  },
  {
   "cell_type": "code",
   "execution_count": 24,
   "id": "d9ba339d-b9da-48ab-9400-74587ba71907",
   "metadata": {},
   "outputs": [
    {
     "data": {
      "text/plain": [
       "np.int64(1)"
      ]
     },
     "execution_count": 24,
     "metadata": {},
     "output_type": "execute_result"
    }
   ],
   "source": [
    "#23. Which store has the **lowest profit**?\n",
    "data=(0.20*retail_data[:,1]).argmin()+1\n",
    "data"
   ]
  },
  {
   "cell_type": "code",
   "execution_count": 25,
   "id": "eff71acf-cb7f-44af-bf7b-4384d9d6f699",
   "metadata": {},
   "outputs": [
    {
     "data": {
      "text/plain": [
       "array([ 7500.,  9600.,  8400., 12300., 10500.,  8100., 11700.,  9000.,\n",
       "       13500.,  9900.])"
      ]
     },
     "execution_count": 25,
     "metadata": {},
     "output_type": "execute_result"
    }
   ],
   "source": [
    "#24. If sales increase by **10% next month**, what are the **new sales figures**?\n",
    "(0.20*retail_data[:,1])+(0.10*retail_data[:,1])"
   ]
  },
  {
   "cell_type": "code",
   "execution_count": 26,
   "id": "f3348049-977d-4109-bc50-751dd6138784",
   "metadata": {},
   "outputs": [
    {
     "data": {
      "text/plain": [
       "array([12500000., 20480000., 15680000., 33620000., 24500000., 14580000.,\n",
       "       30420000., 18000000., 40500000., 21780000.])"
      ]
     },
     "execution_count": 26,
     "metadata": {},
     "output_type": "execute_result"
    }
   ],
   "source": [
    "#25. How will **total profit** change with the 10% sales increase?\n",
    "(0.20*retail_data[:,1])*(0.10*retail_data[:,1])"
   ]
  },
  {
   "cell_type": "markdown",
   "id": "422e0b3b-4573-4d84-9bc3-94f7bc667e22",
   "metadata": {},
   "source": [
    "### Operational Strategy"
   ]
  },
  {
   "cell_type": "code",
   "execution_count": 27,
   "id": "e8172c76-3f2e-4f1d-b6d6-b1d782a0dd3a",
   "metadata": {},
   "outputs": [
    {
     "data": {
      "text/plain": [
       "array([[    4, 41000,   500,  1600,    20],\n",
       "       [    5, 35000,   420,  1400,    12],\n",
       "       [    7, 39000,   480,  1700,    18],\n",
       "       [    9, 45000,   550,  1800,    25]])"
      ]
     },
     "execution_count": 27,
     "metadata": {},
     "output_type": "execute_result"
    }
   ],
   "source": [
    "#26. Which stores need **inventory restocking** based on sales and current stock?\n",
    "sal=retail_data[:,1].mean()\n",
    "ret=retail_data[:,1].mean()\n",
    "res=retail_data[(retail_data[:,1]>sal)&(retail_data[:,4]<ret)]\n",
    "res"
   ]
  },
  {
   "cell_type": "code",
   "execution_count": 28,
   "id": "81ceed0b-5835-411a-a03a-4fc4ebe8e37d",
   "metadata": {},
   "outputs": [
    {
     "data": {
      "text/plain": [
       "array([[    2, 32000,   450,  1500,    15],\n",
       "       [    4, 41000,   500,  1600,    20],\n",
       "       [    7, 39000,   480,  1700,    18],\n",
       "       [    9, 45000,   550,  1800,    25]])"
      ]
     },
     "execution_count": 28,
     "metadata": {},
     "output_type": "execute_result"
    }
   ],
   "source": [
    "aver = retail_data[:,4].mean()\n",
    "res = retail_data[(retail_data[:,4]) > aver]\n",
    "res"
   ]
  },
  {
   "cell_type": "code",
   "execution_count": 29,
   "id": "2f0d9519-5e08-4ee4-b702-60784af36aab",
   "metadata": {},
   "outputs": [
    {
     "name": "stdout",
     "output_type": "stream",
     "text": [
      "Best performer overall: Store ID 9\n",
      "Sales: 45000, Customers: 550, Inventory: 25\n"
     ]
    }
   ],
   "source": [
    "#28. Which store is the **best performer overall** (sales, customers, inventory turnover)?\n",
    "inventory_turnover = retail_data[:, 1] / retail_data[:, 4]\n",
    "sales_norm = (retail_data[:, 1] - retail_data[:, 1].min()) / (retail_data[:, 1].max() - retail_data[:, 1].min())\n",
    "customers_norm = (retail_data[:, 2] - retail_data[:, 2].min()) / (retail_data[:, 2].max() - retail_data[:, 2].min())\n",
    "turnover_norm = (inventory_turnover - inventory_turnover.min()) / (inventory_turnover.max() - inventory_turnover.min())\n",
    "\n",
    "overall_score = sales_norm + customers_norm + turnover_norm\n",
    "best_index = np.argmax(overall_score)\n",
    "best_store = retail_data[best_index]\n",
    "\n",
    "print(f\"Best performer overall: Store ID {int(best_store[0])}\")\n",
    "print(f\"Sales: {best_store[1]}, Customers: {best_store[2]}, Inventory: {best_store[4]}\")\n"
   ]
  },
  {
   "cell_type": "code",
   "execution_count": 30,
   "id": "b26d5c75-a8cc-4fe0-b23b-44e581270c86",
   "metadata": {},
   "outputs": [
    {
     "name": "stdout",
     "output_type": "stream",
     "text": [
      "Worst performer overall: Store ID 1\n",
      "Sales: 25000, Customers: 300, Inventory: 10\n"
     ]
    }
   ],
   "source": [
    "#29. Which store is the **worst performer oall**?)\n",
    "inventory_turnover = retail_data[:, 1] / retail_data[:, 4]\n",
    "\n",
    "# Normalize metrics (min-max scaling)\n",
    "sales_norm = (retail_data[:, 1] - retail_data[:, 1].min()) / (retail_data[:, 1].max() - retail_data[:, 1].min())\n",
    "customers_norm = (retail_data[:, 2] - retail_data[:, 2].min()) / (retail_data[:, 2].max() - retail_data[:, 2].min())\n",
    "turnover_norm = (inventory_turnover - inventory_turnover.min()) / (inventory_turnover.max() - inventory_turnover.min())\n",
    "\n",
    "# Composite score (equal weights)\n",
    "overall_score = sales_norm + customers_norm + turnover_norm\n",
    "\n",
    "# Find worst performer\n",
    "worst_index = np.argmin(overall_score)\n",
    "worst_store = retail_data[worst_index]\n",
    "\n",
    "print(f\"Worst performer overall: Store ID {int(worst_store[0])}\")\n",
    "print(f\"Sales: {worst_store[1]}, Customers: {worst_store[2]}, Inventory: {worst_store[4]}\")"
   ]
  },
  {
   "cell_type": "code",
   "execution_count": 32,
   "id": "a1247a25-8cd9-47e9-966d-a7684d77812c",
   "metadata": {},
   "outputs": [
    {
     "data": {
      "text/plain": [
       "array([[    4, 41000,   500,  1600,    20],\n",
       "       [    7, 39000,   480,  1700,    18],\n",
       "       [    9, 45000,   550,  1800,    25]])"
      ]
     },
     "execution_count": 32,
     "metadata": {},
     "output_type": "execute_result"
    }
   ],
   "source": [
    "#30. Which stores can be considered for **expansion** based on strong sales and customer metrics?\n",
    "a = retail_data[:,1].mean()\n",
    "b = retail_data[:,2].mean()\n",
    "res = retail_data[(retail_data[:,1] > a) & (retail_data[:,2] > b)]\n",
    "res\n",
    "\n"
   ]
  },
  {
   "cell_type": "code",
   "execution_count": null,
   "id": "117bcd51-6405-4cdb-b1ed-fa2437113d41",
   "metadata": {},
   "outputs": [],
   "source": []
  }
 ],
 "metadata": {
  "kernelspec": {
   "display_name": "Python 3 (ipykernel)",
   "language": "python",
   "name": "python3"
  },
  "language_info": {
   "codemirror_mode": {
    "name": "ipython",
    "version": 3
   },
   "file_extension": ".py",
   "mimetype": "text/x-python",
   "name": "python",
   "nbconvert_exporter": "python",
   "pygments_lexer": "ipython3",
   "version": "3.13.5"
  }
 },
 "nbformat": 4,
 "nbformat_minor": 5
}
