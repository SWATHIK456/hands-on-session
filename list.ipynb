{
 "cells": [
  {
   "cell_type": "code",
   "execution_count": 1,
   "id": "65064b52-96d8-46cd-b411-6224968b3d60",
   "metadata": {},
   "outputs": [
    {
     "data": {
      "text/plain": [
       "[1, 4, 9, 16, 25, 36, 49, 64, 81, 100]"
      ]
     },
     "execution_count": 1,
     "metadata": {},
     "output_type": "execute_result"
    }
   ],
   "source": [
    "# Question 1: Create a list of first 10 square numbers\n",
    "num=[i ** 2 for i in range(1,11)]\n",
    "num"
   ]
  },
  {
   "cell_type": "code",
   "execution_count": null,
   "id": "8319c698-a833-4942-b248-d2c69010cc08",
   "metadata": {},
   "outputs": [],
   "source": [
    "# Question 2: Find the sum of all even numbers in [1, 2, 3, 4, 5, 6, 7, 8, 9, 10]\n",
    "num=[1, 2, 3, 4, 5, 6, 7, 8, 9, 10]\n",
    "result=sum(for in )"
   ]
  },
  {
   "cell_type": "code",
   "execution_count": 4,
   "id": "49b8bac7-3eb6-41f3-9607-56439776c937",
   "metadata": {},
   "outputs": [
    {
     "data": {
      "text/plain": [
       "[1, 2, 3, 4, 5, 6, 7]"
      ]
     },
     "execution_count": 4,
     "metadata": {},
     "output_type": "execute_result"
    }
   ],
   "source": [
    "# Question 3: Remove duplicates from [1, 2, 2, 3, 4, 4, 5, 6, 6, 7]\n",
    "n=[1, 2, 2, 3, 4, 4, 5, 6, 6, 7]\n",
    "x=list(set(n))\n",
    "x"
   ]
  },
  {
   "cell_type": "code",
   "execution_count": 7,
   "id": "df672c8a-a314-4a73-b458-43ef55f58b71",
   "metadata": {},
   "outputs": [
    {
     "name": "stdout",
     "output_type": "stream",
     "text": [
      "[90, 64, 34, 25, 22, 12, 11]\n"
     ]
    }
   ],
   "source": [
    "# Question 4: Sort the list [64, 34, 25, 12, 22, 11, 90] in descending order\n",
    "numbers = [64, 34, 25, 12, 22, 11, 90]\n",
    "numbers.sort(reverse=True)\n",
    "print(numbers)"
   ]
  },
  {
   "cell_type": "code",
   "execution_count": 8,
   "id": "012ba512-1952-47af-a334-dccd2b368375",
   "metadata": {},
   "outputs": [
    {
     "name": "stdout",
     "output_type": "stream",
     "text": [
      "168.0\n"
     ]
    }
   ],
   "source": [
    "# Question 5: Find the average of numbers in [15, 23, 31, 42, 56, 78, 91]\n",
    "num=[15, 23, 31, 42, 56, 78, 91]\n",
    "avg=(15+23+31+42+56+78+91)/2\n",
    "print(avg)\n"
   ]
  },
  {
   "cell_type": "code",
   "execution_count": 1,
   "id": "9450de0a-d40f-41d4-9f57-9fb8afc7c114",
   "metadata": {},
   "outputs": [
    {
     "data": {
      "text/plain": [
       "[0, 1, 1, 2, 3, 5, 8, 13, 21, 34, 55, 89, 144, 233, 377]"
      ]
     },
     "execution_count": 1,
     "metadata": {},
     "output_type": "execute_result"
    }
   ],
   "source": [
    "# Question 6: Create a list of first 15 Fibonacci numbers\n",
    "fibo = [0,1]\n",
    "\n",
    "for i in range(2,15):\n",
    "    num = fibo[-1] + fibo[-2]\n",
    "    fibo.append(num)\n",
    "fibo"
   ]
  },
  {
   "cell_type": "code",
   "execution_count": 12,
   "id": "06cff760-4021-4255-a93d-ece2d97e2ccd",
   "metadata": {},
   "outputs": [
    {
     "data": {
      "text/plain": [
       "67"
      ]
     },
     "execution_count": 12,
     "metadata": {},
     "output_type": "execute_result"
    }
   ],
   "source": [
    "#Question 7: Find the second largest number in [45, 67, 23, 89, 12, 34, 78]\n",
    "a=[45, 67, 23, 89, 12, 34, 78]\n",
    "res=sorted(a, reverse=True)\n",
    "res=a[1]\n",
    "res"
   ]
  },
  {
   "cell_type": "code",
   "execution_count": 10,
   "id": "f844ec9c-d58c-4537-8434-43cc7beb79d4",
   "metadata": {},
   "outputs": [
    {
     "data": {
      "text/plain": [
       "[10, 9, 8, 7, 6, 5, 4, 3, 2, 1]"
      ]
     },
     "execution_count": 10,
     "metadata": {},
     "output_type": "execute_result"
    }
   ],
   "source": [
    "#Question 8: Reverse the list [1, 2, 3, 4, 5, 6, 7, 8, 9, 10]\n",
    "a=[1, 2, 3, 4, 5, 6, 7, 8, 9, 10]\n",
    "res=sorted(a,reverse=True)\n",
    "res"
   ]
  },
  {
   "cell_type": "code",
   "execution_count": 24,
   "id": "8f914283-7002-496b-b1e4-5141200d0231",
   "metadata": {},
   "outputs": [
    {
     "name": "stdout",
     "output_type": "stream",
     "text": [
      "[50]\n"
     ]
    }
   ],
   "source": [
    "# Question 10: Create a list of prime numbers between 1 and 50\n",
    "primes = []\n",
    "for num in range(1,51):\n",
    "    for i in range(2,num):\n",
    "        if num%i==0:\n",
    "            break\n",
    "else:\n",
    "    primes.append(num)\n",
    "print(primes)\n",
    "    \n",
    "       "
   ]
  },
  {
   "cell_type": "code",
   "execution_count": 19,
   "id": "6ac8a40f-aa4b-4c4e-ae5d-842b2ccc131b",
   "metadata": {},
   "outputs": [
    {
     "name": "stdout",
     "output_type": "stream",
     "text": [
      "[1, 2, 3, 4, 5, 6, 7, 8, 9]\n"
     ]
    }
   ],
   "source": [
    "# Question 11: Flatten nested list [[1, 2, 3], [4, 5, 6], [7, 8, 9]]\n",
    "list=[[1, 2, 3], [4, 5, 6], [7, 8, 9]]\n",
    "flat_list=[]\n",
    "for sublist in list:\n",
    "    for item in sublist:\n",
    "        flat_list.append(item)\n",
    "print(flat_list)"
   ]
  },
  {
   "cell_type": "code",
   "execution_count": 2,
   "id": "a0919e4c-b7cc-42ac-a592-cf1b18854cba",
   "metadata": {},
   "outputs": [
    {
     "name": "stdout",
     "output_type": "stream",
     "text": [
      "[4, 5]\n"
     ]
    }
   ],
   "source": [
    "# Question 12: Find common elements between [1, 2, 3, 4, 5] and [4, 5, 6, 7, 8]\n",
    "list1=[1, 2, 3, 4, 5]\n",
    "list2=[4, 5, 6, 7, 8]\n",
    "common=list(set(list1)&set(list2))\n",
    "print(common)"
   ]
  },
  {
   "cell_type": "code",
   "execution_count": null,
   "id": "8cf42f4d-4928-4e8b-bbbb-5e67d7ff9a3b",
   "metadata": {},
   "outputs": [],
   "source": []
  },
  {
   "cell_type": "code",
   "execution_count": 20,
   "id": "84b050a9-9548-4eeb-b0e2-bab31efc1f9d",
   "metadata": {},
   "outputs": [
    {
     "name": "stdout",
     "output_type": "stream",
     "text": [
      "[[1, 2], [3, 4], [5, 6]]\n"
     ]
    }
   ],
   "source": [
    "# Question 13: Create a list of lists: [[1, 2], [3, 4], [5, 6]]\n",
    "my_list=[[1, 2], [3, 4], [5, 6]]\n",
    "print(my_list)"
   ]
  },
  {
   "cell_type": "code",
   "execution_count": null,
   "id": "a097b05f-1a82-41a4-a956-360652cc603b",
   "metadata": {},
   "outputs": [],
   "source": []
  },
  {
   "cell_type": "code",
   "execution_count": 8,
   "id": "cf8a9d2f-6e06-4742-a68b-9de3f9478135",
   "metadata": {},
   "outputs": [
    {
     "name": "stdout",
     "output_type": "stream",
     "text": [
      "[6, 15, 24]\n"
     ]
    }
   ],
   "source": [
    "# Question 14: Find the sum of each sublist in [[1, 2, 3], [4, 5, 6], [7, 8, 9]]\n",
    "nested_list = [[1, 2, 3], [4, 5, 6], [7, 8, 9]]\n",
    "result = []\n",
    "\n",
    "for sublist in nested_list:\n",
    "    total = 0                   \n",
    "    for item in sublist:       \n",
    "        total += item          \n",
    "    result.append(total)       # store the sum in a list\n",
    "\n",
    "print(result)"
   ]
  },
  {
   "cell_type": "code",
   "execution_count": 14,
   "id": "c37c64ef-d56e-45fb-a10f-d357c9c17f14",
   "metadata": {},
   "outputs": [
    {
     "name": "stdout",
     "output_type": "stream",
     "text": [
      "[[1, 4, 7], [2, 5, 8], [3, 6, 9]]\n"
     ]
    }
   ],
   "source": [
    "# Question 15: Transpose the matrix [[1, 2, 3], [4, 5, 6], [7, 8, 9]]\n",
    "matrix=[[1, 2, 3], [4, 5, 6], [7, 8, 9]]\n",
    "transpose=[]\n",
    "for i in range(3):\n",
    "    row=[]\n",
    "\n",
    "    for j in range(3):\n",
    "        row.append(matrix[j][i])\n",
    "    transpose.append(row)\n",
    "print(transpose)"
   ]
  },
  {
   "cell_type": "code",
   "execution_count": 20,
   "id": "ed889db8-b5f8-4923-9bb7-6354d22bbd2e",
   "metadata": {},
   "outputs": [
    {
     "name": "stdout",
     "output_type": "stream",
     "text": [
      "[5, 9, 8]\n"
     ]
    }
   ],
   "source": [
    "# Question 16: Find the maximum value in each sublist of [[1, 5, 3], [9, 2, 7], [4, 8, 6]]\n",
    "list=[[1, 5, 3], [9, 2, 7], [4, 8, 6]]\n",
    "result=[]\n",
    "for sublist in list:\n",
    "    result.append(max(sublist))\n",
    "print(result)"
   ]
  },
  {
   "cell_type": "code",
   "execution_count": 1,
   "id": "dd015b0a-2c11-48c0-92a1-df6198f0a056",
   "metadata": {},
   "outputs": [
    {
     "name": "stdout",
     "output_type": "stream",
     "text": [
      "[[[1, 2], [3, 4]], [[5, 6], [7, 8]]]\n"
     ]
    }
   ],
   "source": [
    "# Question 17: Create a 3D list: [[[1, 2], [3, 4]], [[5, 6], [7, 8]]]\n",
    "my_list = list([[[1, 2], [3, 4]], [[5, 6], [7, 8]]])\n",
    "print(my_list)"
   ]
  },
  {
   "cell_type": "code",
   "execution_count": 2,
   "id": "716968e2-b02a-4f99-a3ae-76d42b8748df",
   "metadata": {},
   "outputs": [
    {
     "name": "stdout",
     "output_type": "stream",
     "text": [
      "36\n"
     ]
    }
   ],
   "source": [
    "# Question 18: Find the sum of all elements in 3D list [[[1, 2], [3, 4]], [[5, 6], [7, 8]]]\n",
    "arr = [[[1, 2], [3, 4]], [[5, 6], [7, 8]]]\n",
    "total = 0\n",
    "\n",
    "for block in arr:        \n",
    "    for sub in block:     \n",
    "        for num in sub:  \n",
    "            total += num\n",
    "\n",
    "print(total)"
   ]
  },
  {
   "cell_type": "code",
   "execution_count": 3,
   "id": "e0ba3c36-25a9-4f9f-b71f-b6171094a7a8",
   "metadata": {},
   "outputs": [
    {
     "name": "stdout",
     "output_type": "stream",
     "text": [
      "[2, 4, 6, 8]\n"
     ]
    }
   ],
   "source": [
    "# Question 19: Extract all even numbers from nested list [[1, 2, 3], [4, 5, 6], [7, 8, 9]]\n",
    "nested_list = [[1, 2, 3], [4, 5, 6], [7, 8, 9]]\n",
    "evens = []\n",
    "\n",
    "for sublist in nested_list:\n",
    "    for num in sublist:\n",
    "        if num % 2 == 0:      \n",
    "            evens.append(num)\n",
    "\n",
    "print(evens)"
   ]
  },
  {
   "cell_type": "code",
   "execution_count": 4,
   "id": "d67acf87-7323-4edb-8c9f-77c411ed8749",
   "metadata": {},
   "outputs": [
    {
     "name": "stdout",
     "output_type": "stream",
     "text": [
      "[1, 'hello', 3.14, True, [1, 2, 3]]\n"
     ]
    }
   ],
   "source": [
    "# Question 20: Create a list of mixed data types: [1, \"hello\", 3.14, True, [1, 2, 3]]\n",
    "mixed_list=[1, \"hello\", 3.14, True, [1, 2, 3]]\n",
    "print(mixed_list)"
   ]
  },
  {
   "cell_type": "code",
   "execution_count": 10,
   "id": "9697755b-f0ec-4949-9d98-73c581344182",
   "metadata": {},
   "outputs": [
    {
     "name": "stdout",
     "output_type": "stream",
     "text": [
      "[5, 6, 6, 4]\n"
     ]
    }
   ],
   "source": [
    "# Question 21: Find the length of each string in [\"apple\", \"banana\", \"cherry\", \"date\"]\n",
    "a=[\"apple\", \"banana\", \"cherry\", \"date\"]\n",
    "length=[]\n",
    "for i in a:\n",
    "    length.append(len(i))\n",
    "print(length)"
   ]
  },
  {
   "cell_type": "code",
   "execution_count": 11,
   "id": "6de59c47-b266-428b-bcf5-ba7b6e9a36ff",
   "metadata": {},
   "outputs": [
    {
     "name": "stdout",
     "output_type": "stream",
     "text": [
      "[(1, 'a'), (2, 'b'), (3, 'c')]\n"
     ]
    }
   ],
   "source": [
    "# Question 22: Create a list of tuples: [(1, 'a'), (2, 'b'), (3, 'c')]\n",
    "my_list = list([(1, 'a'), (2, 'b'), (3, 'c')])\n",
    "print(my_list)"
   ]
  },
  {
   "cell_type": "code",
   "execution_count": 15,
   "id": "ba4d61d0-5b6b-4b49-9124-1f0882a1115a",
   "metadata": {},
   "outputs": [
    {
     "name": "stdout",
     "output_type": "stream",
     "text": [
      "[1, 2, 3]\n"
     ]
    }
   ],
   "source": [
    "# Question 23: Extract first element from each tuple in [(1, 'a'), (2, 'b'), (3, 'c')]\n",
    "data= [(1, 'a'), (2, 'b'), (3, 'c')]\n",
    "first_element=[]\n",
    "for i in data:\n",
    "    first_element.append(i[0])\n",
    "print(first_element)"
   ]
  },
  {
   "cell_type": "code",
   "execution_count": 16,
   "id": "4c06a9e8-3e4a-432a-805b-5342e6bc58bb",
   "metadata": {},
   "outputs": [
    {
     "name": "stdout",
     "output_type": "stream",
     "text": [
      "[{'name': 'Alice', 'age': 25}, {'name': 'Bob', 'age': 30}]\n"
     ]
    }
   ],
   "source": [
    "# Question 24: Create a list of dictionaries: [{'name': 'Alice', 'age': 25}, {'name': 'Bob', 'age': 30}]\n",
    "my_dict=([{'name': 'Alice', 'age': 25}, {'name': 'Bob', 'age': 30}])\n",
    "print(my_dict)"
   ]
  },
  {
   "cell_type": "code",
   "execution_count": 18,
   "id": "526320e4-a6a0-46d8-b066-1ac1f977d89b",
   "metadata": {},
   "outputs": [
    {
     "name": "stdout",
     "output_type": "stream",
     "text": [
      "['Alice', 'Bob']\n"
     ]
    }
   ],
   "source": [
    "# Question 25: Extract all 'name' values from list of dictionaries\n",
    "my_dict=([{'name': 'Alice', 'age': 25}, {'name': 'Bob', 'age': 30}])\n",
    "names=[]\n",
    "for person in my_dict:\n",
    "    names.append(person['name'])\n",
    "print(names)"
   ]
  },
  {
   "cell_type": "code",
   "execution_count": null,
   "id": "61f347d2-653d-4e38-8cc8-f0b54b2a0c2f",
   "metadata": {},
   "outputs": [],
   "source": [
    "# Question 26: Find the person with maximum age in list of dictionaries\n",
    "my_dict=([{'name': 'Alice', 'age': 25}, {'name': 'Bob', 'age': 30}])"
   ]
  },
  {
   "cell_type": "code",
   "execution_count": 1,
   "id": "4d35b8b6-5340-4d99-8556-5d442d2b393b",
   "metadata": {},
   "outputs": [
    {
     "name": "stdout",
     "output_type": "stream",
     "text": [
      "[[[[1, 2], [3, 4]], [[5, 6], [7, 8]]], [[[9, 10], [11, 12]], [[13, 14], [15, 16]]]]\n"
     ]
    }
   ],
   "source": [
    "# Question 27: Create a 4D list: [[[[1, 2], [3, 4]], [[5, 6], [7, 8]]], [[[9, 10], [11, 12]], [[13, 14], [15, 16]]]]\n",
    "a = list([\n",
    "    list([\n",
    "        list([list([1, 2]), list([3, 4])]),\n",
    "        list([list([5, 6]), list([7, 8])])\n",
    "    ]),\n",
    "    list([\n",
    "        list([list([9, 10]), list([11, 12])]),\n",
    "        list([list([13, 14]), list([15, 16])])\n",
    "    ])\n",
    "])\n",
    "\n",
    "print(a)"
   ]
  },
  {
   "cell_type": "code",
   "execution_count": null,
   "id": "dfb56ac6-9c0f-4579-906b-c85aaa5494e3",
   "metadata": {},
   "outputs": [],
   "source": [
    "# Question 28: Find the maximum value in 4D list"
   ]
  },
  {
   "cell_type": "code",
   "execution_count": 2,
   "id": "ef65821c-65bd-4e2c-b67e-cd5d8dc08d3b",
   "metadata": {},
   "outputs": [
    {
     "name": "stdout",
     "output_type": "stream",
     "text": [
      "[{1, 2, 3}, {4, 5, 6}, {8, 9, 7}]\n"
     ]
    }
   ],
   "source": [
    "# Question 29: Create a list of sets: [{1, 2, 3}, {4, 5, 6}, {7, 8, 9}]\n",
    "a = list([\n",
    "    set([1, 2, 3]),\n",
    "    set([4, 5, 6]),\n",
    "    set([7, 8, 9])\n",
    "])\n",
    "\n",
    "print(a)"
   ]
  },
  {
   "cell_type": "code",
   "execution_count": 3,
   "id": "43842abd-400c-4114-9ab2-8787f16e0254",
   "metadata": {},
   "outputs": [
    {
     "name": "stdout",
     "output_type": "stream",
     "text": [
      "{1, 2, 3, 4, 5, 6, 7, 8, 9}\n"
     ]
    }
   ],
   "source": [
    "# Question 30: Find the union of all sets in list of sets\n",
    "result = set()          \n",
    "for s in a:\n",
    "    result = result.union(s)\n",
    "\n",
    "print(result)"
   ]
  },
  {
   "cell_type": "code",
   "execution_count": 4,
   "id": "fc05f509-7822-42fd-91b0-b0e40d1ca159",
   "metadata": {},
   "outputs": [
    {
     "name": "stdout",
     "output_type": "stream",
     "text": [
      "[(1+2j), (3+4j), (5+6j)]\n"
     ]
    }
   ],
   "source": [
    "# Question 31: Create a list of complex numbers: [1+2j, 3+4j, 5+6j]\n",
    "a = [1+2j, 3+4j, 5+6j]\n",
    "print(a)"
   ]
  },
  {
   "cell_type": "code",
   "execution_count": 1,
   "id": "0655dd84-d003-4124-b39a-e3aa22788086",
   "metadata": {},
   "outputs": [
    {
     "name": "stdout",
     "output_type": "stream",
     "text": [
      "[2.23606797749979, 5.0, 7.810249675906654]\n"
     ]
    }
   ],
   "source": [
    "# Question 32: Find the magnitude of each complex number in list\n",
    "nums = [1+2j, 3+4j, 5+6j]\n",
    "\n",
    "magnitudes = [abs(z) for z in nums]\n",
    "\n",
    "print(magnitudes)"
   ]
  },
  {
   "cell_type": "code",
   "execution_count": 2,
   "id": "65245032-850e-4470-bb79-4db6d3c1ed40",
   "metadata": {},
   "outputs": [
    {
     "name": "stdout",
     "output_type": "stream",
     "text": [
      "[1, [2, 3], [4, [5, 6]], 7]\n"
     ]
    }
   ],
   "source": [
    "# Question 33: Create a nested list with different levels: [1, [2, 3], [4, [5, 6]], 7]\n",
    "nested_list = [1, [2, 3], [4, [5, 6]], 7]\n",
    "print(nested_list)"
   ]
  },
  {
   "cell_type": "code",
   "execution_count": null,
   "id": "e5891c40-e65e-4694-9af1-c828756630aa",
   "metadata": {},
   "outputs": [],
   "source": [
    "# Question 34: Count the depth of nesting in [1, [2, 3], [4, [5, 6]], 7]"
   ]
  },
  {
   "cell_type": "code",
   "execution_count": 4,
   "id": "0b4ed902-af66-4e8d-9e05-1c2d8b0da05a",
   "metadata": {},
   "outputs": [
    {
     "name": "stdout",
     "output_type": "stream",
     "text": [
      "[<built-in function len>, <class 'str'>, <class 'int'>, <class 'float'>]\n"
     ]
    }
   ],
   "source": [
    "#Question 35: Create a list of functions: [len, str, int, float]\n",
    "list=[len,str,int,float]\n",
    "print(list)"
   ]
  },
  {
   "cell_type": "code",
   "execution_count": 5,
   "id": "34bb07b5-28bd-4c09-935a-4635d03ca75d",
   "metadata": {},
   "outputs": [
    {
     "name": "stdout",
     "output_type": "stream",
     "text": [
      "[3, '123', 123, 123.0]\n"
     ]
    }
   ],
   "source": [
    "# Question 36: Apply each function in list to string \"123\"\n",
    "func = [len, str, int, float]\n",
    "s = \"123\"\n",
    "\n",
    "result = [f(s) for f in func]\n",
    "print(result)"
   ]
  },
  {
   "cell_type": "code",
   "execution_count": 10,
   "id": "146b58f9-a284-4c5c-adab-81eb0de61f6d",
   "metadata": {},
   "outputs": [
    {
     "name": "stdout",
     "output_type": "stream",
     "text": [
      "[<function <lambda> at 0x000001F375A4A7A0>, <function <lambda> at 0x000001F375A4ACA0>, <function <lambda> at 0x000001F375A4ADE0>]\n"
     ]
    }
   ],
   "source": [
    "# Question 37: Create a list of lambda functions: [lambda x: x*2, lambda x: x**2, lambda x: x+1]\n",
    "funcs =  [lambda x: x * 2,\n",
    "    lambda x: x ** 2,\n",
    "    lambda x: x + 1]\n",
    "print(funcs)"
   ]
  },
  {
   "cell_type": "code",
   "execution_count": 11,
   "id": "702a6df2-e05b-4776-9485-7bf708cf6643",
   "metadata": {},
   "outputs": [
    {
     "name": "stdout",
     "output_type": "stream",
     "text": [
      "[10, 25, 6]\n"
     ]
    }
   ],
   "source": [
    "# Question 38: Apply each lambda function to 5\n",
    "result = [f(5) for f in funcs]    #x=5\n",
    "print(result)"
   ]
  },
  {
   "cell_type": "code",
   "execution_count": 1,
   "id": "a6040890-c19d-493c-a89d-be67fcaf8f2c",
   "metadata": {},
   "outputs": [
    {
     "name": "stdout",
     "output_type": "stream",
     "text": [
      "[<class 'list'>, <class 'dict'>, <class 'set'>, <class 'tuple'>]\n"
     ]
    }
   ],
   "source": [
    "# Question 39: Create a list of classes: [list, dict, set, tuple]\n",
    "classes=[list,dict,set,tuple]\n",
    "print(classes)"
   ]
  },
  {
   "cell_type": "code",
   "execution_count": 1,
   "id": "c844a4ff-439e-404e-915b-33d2c9447ede",
   "metadata": {},
   "outputs": [
    {
     "name": "stdout",
     "output_type": "stream",
     "text": [
      "[[], set(), {}, ()]\n"
     ]
    }
   ],
   "source": [
    "# Question 40: Create instances of each class in list\n",
    "word=[list,set,dict,tuple]\n",
    "inst=[cls()for cls in word]\n",
    "print(inst)"
   ]
  },
  {
   "cell_type": "code",
   "execution_count": 2,
   "id": "79194d16-c04a-471d-9425-d3b4523ae31e",
   "metadata": {},
   "outputs": [
    {
     "name": "stdout",
     "output_type": "stream",
     "text": [
      "[None, None, None, None]\n"
     ]
    }
   ],
   "source": [
    "# Question 41: Create a list of None values: [None, None, None, None]\n",
    "none_list = [None] * 4\n",
    "print(none_list)"
   ]
  },
  {
   "cell_type": "code",
   "execution_count": 6,
   "id": "e900e32e-6b0a-43be-8001-990019a6a4f3",
   "metadata": {},
   "outputs": [
    {
     "name": "stdout",
     "output_type": "stream",
     "text": [
      "[0, 0, 0, 0]\n"
     ]
    }
   ],
   "source": [
    "# Question 42: Replace all None values with 0 in list\n",
    "none_list=[None,None,None,None]\n",
    "res = [0 if x is None else x for x in none_list]\n",
    "print(res)"
   ]
  },
  {
   "cell_type": "code",
   "execution_count": 7,
   "id": "101e8115-7c9c-4819-a027-de9c76d856d4",
   "metadata": {},
   "outputs": [
    {
     "name": "stdout",
     "output_type": "stream",
     "text": [
      "[True, False, True, False]\n"
     ]
    }
   ],
   "source": [
    "# Question 43: Create a list of boolean values: [True, False, True, False]\n",
    "val=[True, False, True, False]\n",
    "print(val)"
   ]
  },
  {
   "cell_type": "code",
   "execution_count": 10,
   "id": "abc3d49e-b101-41ce-b8d4-26a081d0d02a",
   "metadata": {},
   "outputs": [
    {
     "name": "stdout",
     "output_type": "stream",
     "text": [
      "2\n"
     ]
    }
   ],
   "source": [
    "# Question 44: Count True values in boolean list\n",
    "val=[True, False, True, False]\n",
    "count_true = sum(val)\n",
    "print(count_true)"
   ]
  },
  {
   "cell_type": "code",
   "execution_count": 11,
   "id": "b905ae9d-27d1-40e4-87a1-dd6683b61b6e",
   "metadata": {},
   "outputs": [
    {
     "name": "stdout",
     "output_type": "stream",
     "text": [
      "[range(0, 3), range(0, 5), range(0, 2)]\n"
     ]
    }
   ],
   "source": [
    "# Question 45: Create a list of ranges: [range(3), range(5), range(2)]\n",
    "res=[range(3),range(5),range(2)]\n",
    "print(res)"
   ]
  },
  {
   "cell_type": "code",
   "execution_count": 12,
   "id": "1782a91f-eee8-43dd-bfab-8fdeb456a02b",
   "metadata": {},
   "outputs": [
    {
     "name": "stdout",
     "output_type": "stream",
     "text": [
      "[[0, 1, 2], [0, 1, 2, 3, 4], [0, 1]]\n"
     ]
    }
   ],
   "source": [
    "# Question 46: Convert each range to list\n",
    "res=[range(3),range(5),range(2)]\n",
    "lists = [list(r) for r in res]\n",
    "print(lists)"
   ]
  },
  {
   "cell_type": "code",
   "execution_count": null,
   "id": "c9d6fc6b-5924-4e27-b117-f91903b08170",
   "metadata": {},
   "outputs": [],
   "source": [
    "# Question 47: Create a list of generators: [(x for x in range(3)), (x for x in range(5))]"
   ]
  },
  {
   "cell_type": "code",
   "execution_count": 13,
   "id": "be8be0b3-c765-4878-a856-ebe120ac2767",
   "metadata": {},
   "outputs": [
    {
     "name": "stdout",
     "output_type": "stream",
     "text": [
      "[<list_iterator object at 0x000001D89744FB50>, <list_iterator object at 0x000001D89744C1F0>]\n"
     ]
    }
   ],
   "source": [
    "# Question 49: Create a list of iterators: [iter([1, 2, 3]), iter([4, 5, 6])]\n",
    "iters = [iter([1, 2, 3]), iter([4, 5, 6])]\n",
    "print(iters)"
   ]
  },
  {
   "cell_type": "code",
   "execution_count": 14,
   "id": "8b53d451-f3a4-4566-95b1-a284e04107c6",
   "metadata": {},
   "outputs": [
    {
     "name": "stdout",
     "output_type": "stream",
     "text": [
      "[[1, 2, 3], [4, 5, 6]]\n"
     ]
    }
   ],
   "source": [
    "# Question 50: Extract all elements from each iterator\n",
    "iters = [iter([1, 2, 3]), iter([4, 5, 6])]\n",
    "\n",
    "result = [list(it) for it in iters]\n",
    "print(result)"
   ]
  },
  {
   "cell_type": "code",
   "execution_count": null,
   "id": "5ba0fc88-f341-409a-9d5a-39595c5fb8bf",
   "metadata": {},
   "outputs": [],
   "source": []
  }
 ],
 "metadata": {
  "kernelspec": {
   "display_name": "Python 3 (ipykernel)",
   "language": "python",
   "name": "python3"
  },
  "language_info": {
   "codemirror_mode": {
    "name": "ipython",
    "version": 3
   },
   "file_extension": ".py",
   "mimetype": "text/x-python",
   "name": "python",
   "nbconvert_exporter": "python",
   "pygments_lexer": "ipython3",
   "version": "3.13.5"
  }
 },
 "nbformat": 4,
 "nbformat_minor": 5
}
