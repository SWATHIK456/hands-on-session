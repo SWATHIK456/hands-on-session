{
 "cells": [
  {
   "cell_type": "code",
   "execution_count": 27,
   "id": "4a9ea6fd-9aa7-4834-b86f-f2f55618e4be",
   "metadata": {},
   "outputs": [
    {
     "name": "stdout",
     "output_type": "stream",
     "text": [
      "product of first 10 natural numbers: 3628800\n"
     ]
    }
   ],
   "source": [
    "prod=1\n",
    "for i in range(1,11):\n",
    "    prod*=i\n",
    "print(\"product of first 10 natural numbers:\",prod)"
   ]
  },
  {
   "cell_type": "code",
   "execution_count": 17,
   "id": "944c2fb9-a86e-4aa5-a40b-f097cc9f8cbc",
   "metadata": {},
   "outputs": [
    {
     "name": "stdout",
     "output_type": "stream",
     "text": [
      "2\n"
     ]
    }
   ],
   "source": [
    "remainder=0\n",
    "remainder=print(156%7)\n"
   ]
  },
  {
   "cell_type": "code",
   "execution_count": null,
   "id": "2934d581-4948-43d5-9660-dd156170c3cd",
   "metadata": {},
   "outputs": [],
   "source": []
  },
  {
   "cell_type": "code",
   "execution_count": 19,
   "id": "b202a034-f363-43da-985a-cb29977ea3f8",
   "metadata": {},
   "outputs": [
    {
     "name": "stdout",
     "output_type": "stream",
     "text": [
      "625\n"
     ]
    }
   ],
   "source": [
    "square=0\n",
    "square=25**2\n",
    "print(square)\n"
   ]
  },
  {
   "cell_type": "code",
   "execution_count": 21,
   "id": "2a1b215f-8ad7-439a-ac13-16959171d333",
   "metadata": {},
   "outputs": [
    {
     "name": "stdout",
     "output_type": "stream",
     "text": [
      "4.999999999999999\n"
     ]
    }
   ],
   "source": [
    "number=125\n",
    "cube_root=number**(1/3)\n",
    "print(cube_root)\n"
   ]
  },
  {
   "cell_type": "code",
   "execution_count": 24,
   "id": "cde0d209-61eb-4399-80be-fe20e5c8cb7c",
   "metadata": {},
   "outputs": [
    {
     "name": "stdout",
     "output_type": "stream",
     "text": [
      "1953125\n"
     ]
    }
   ],
   "source": [
    "number=125\n",
    "cube_root=125**3\n",
    "print(cube_root)\n"
   ]
  },
  {
   "cell_type": "code",
   "execution_count": 32,
   "id": "8b6066ed-0f08-4b87-a95b-2c8223fd49ea",
   "metadata": {},
   "outputs": [
    {
     "name": "stdout",
     "output_type": "stream",
     "text": [
      "sum of numbers 15\n"
     ]
    }
   ],
   "source": [
    "sum=0\n",
    "for i in range(1,6):\n",
    "    sum +=i\n",
    "print(\"sum of numbers\",sum)"
   ]
  },
  {
   "cell_type": "code",
   "execution_count": 40,
   "id": "8e4c1612-a6d2-44ce-b061-ba51555518f7",
   "metadata": {},
   "outputs": [
    {
     "name": "stdout",
     "output_type": "stream",
     "text": [
      "it is a prime number\n"
     ]
    }
   ],
   "source": [
    "prime = 97\n",
    "if 97%2==1:\n",
    "    print(\"it is a prime number\")"
   ]
  },
  {
   "cell_type": "code",
   "execution_count": 47,
   "id": "91058d69-3d44-41d6-a1ce-59cb027aa689",
   "metadata": {},
   "outputs": [
    {
     "name": "stdout",
     "output_type": "stream",
     "text": [
      "factorial of 8 is 40320\n"
     ]
    }
   ],
   "source": [
    "fact=1\n",
    "for i in range(1,9):\n",
    "    fact*=i\n",
    "print(\"factorial of 8 is\",fact)"
   ]
  },
  {
   "cell_type": "code",
   "execution_count": 48,
   "id": "41d230c2-c389-4c59-bda0-52dc3af2ace6",
   "metadata": {},
   "outputs": [
    {
     "name": "stdout",
     "output_type": "stream",
     "text": [
      "average of numbers is 83.5\n"
     ]
    }
   ],
   "source": [
    "avg=0\n",
    "sum=(15+23+31+42+56)/2\n",
    "print(\"average of numbers is\",sum)"
   ]
  },
  {
   "cell_type": "code",
   "execution_count": 53,
   "id": "b0c8e1ce-3551-46b8-9ded-f9a58823aaff",
   "metadata": {},
   "outputs": [
    {
     "name": "stdout",
     "output_type": "stream",
     "text": [
      "400\n"
     ]
    }
   ],
   "source": [
    "sum=0\n",
    "for i in range(1,40,2):\n",
    "    sum += i\n",
    "print(sum)"
   ]
  },
  {
   "cell_type": "code",
   "execution_count": 54,
   "id": "55a40619-a942-4e23-8ac9-7d173b9bd922",
   "metadata": {},
   "outputs": [
    {
     "data": {
      "text/plain": [
       "12"
      ]
     },
     "execution_count": 54,
     "metadata": {},
     "output_type": "execute_result"
    }
   ],
   "source": [
    "import math\n",
    "math.gcd(48,36)"
   ]
  },
  {
   "cell_type": "code",
   "execution_count": null,
   "id": "cdc86fd0-e580-4618-941f-da56e73e099d",
   "metadata": {},
   "outputs": [],
   "source": []
  }
 ],
 "metadata": {
  "kernelspec": {
   "display_name": "Python 3 (ipykernel)",
   "language": "python",
   "name": "python3"
  },
  "language_info": {
   "codemirror_mode": {
    "name": "ipython",
    "version": 3
   },
   "file_extension": ".py",
   "mimetype": "text/x-python",
   "name": "python",
   "nbconvert_exporter": "python",
   "pygments_lexer": "ipython3",
   "version": "3.13.5"
  }
 },
 "nbformat": 4,
 "nbformat_minor": 5
}
