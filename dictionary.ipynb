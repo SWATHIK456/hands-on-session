{
 "cells": [
  {
   "cell_type": "code",
   "execution_count": 1,
   "id": "2e99551d-a4b6-4fdf-8e95-df2db065eadd",
   "metadata": {},
   "outputs": [
    {
     "data": {
      "text/plain": [
       "{'raj': 20, 'manoj': 35, 'charlie': 25}"
      ]
     },
     "execution_count": 1,
     "metadata": {},
     "output_type": "execute_result"
    }
   ],
   "source": [
    "# Question 1: Create a dictionary of student names and their ages\n",
    "student_dict={'raj':20,'manoj':35,'charlie':25}\n",
    "student_dict"
   ]
  },
  {
   "cell_type": "code",
   "execution_count": 2,
   "id": "70206eb2-9cde-4003-9a72-e7cd3565363b",
   "metadata": {},
   "outputs": [
    {
     "data": {
      "text/plain": [
       "{'a': 1, 'b': 2, 'c': 3, 'd': 4}"
      ]
     },
     "execution_count": 2,
     "metadata": {},
     "output_type": "execute_result"
    }
   ],
   "source": [
    "# Question 2: Add a new key-value pair to dictionary {'a': 1, 'b': 2, 'c': 3}\n",
    "a= {'a': 1, 'b': 2, 'c': 3}\n",
    "a['d']=4\n",
    "a"
   ]
  },
  {
   "cell_type": "code",
   "execution_count": 5,
   "id": "286f0218-b20a-408f-80b4-b23b512db57c",
   "metadata": {},
   "outputs": [
    {
     "name": "stdout",
     "output_type": "stream",
     "text": [
      "dict_keys(['name', 'age', 'city'])\n"
     ]
    }
   ],
   "source": [
    "# Question 3: Get all keys from dictionary {'name': 'John', 'age': 25, 'city': 'New York'}\n",
    "my_dict={'name': 'John', 'age': 25, 'city': 'New York'}\n",
    "keys=my_dict.keys()\n",
    "print(keys)"
   ]
  },
  {
   "cell_type": "code",
   "execution_count": 6,
   "id": "f41449b7-0141-47fa-99cf-f646386b4961",
   "metadata": {},
   "outputs": [
    {
     "name": "stdout",
     "output_type": "stream",
     "text": [
      "dict_values([3, 2, 1])\n"
     ]
    }
   ],
   "source": [
    "# Question 4: Get all values from dictionary {'python': 3, 'java': 2, 'c++': 1}\n",
    "my_dict={'python': 3, 'java': 2, 'c++': 1}\n",
    "values=my_dict.values()\n",
    "print(values)"
   ]
  },
  {
   "cell_type": "code",
   "execution_count": 8,
   "id": "8806c6b1-4bb2-4fee-ace3-825a114fb10d",
   "metadata": {},
   "outputs": [
    {
     "name": "stdout",
     "output_type": "stream",
     "text": [
      " yes age is exixts\n"
     ]
    }
   ],
   "source": [
    "# Question 5: Check if key 'age' exists in {'name': 'Alice', 'age': 30, 'city': 'London'}\n",
    "sent={'name': 'Alice', 'age': 30, 'city': 'London'}\n",
    "if 'age' in sent:\n",
    "    print(\" yes age is exixts\")"
   ]
  },
  {
   "cell_type": "code",
   "execution_count": 10,
   "id": "f88c23f7-ef32-4a84-8094-74d13d8271b4",
   "metadata": {},
   "outputs": [
    {
     "name": "stdout",
     "output_type": "stream",
     "text": [
      "{'a': 1, 'b': 2, 'c': 4}\n"
     ]
    }
   ],
   "source": [
    "# Question 6: Remove key 'temp' from {'a': 1, 'b': 2, 'temp': 3, 'c': 4}\n",
    "sent={'a': 1, 'b': 2, 'temp': 3, 'c': 4}\n",
    "del sent['temp']\n",
    "print(sent)"
   ]
  },
  {
   "cell_type": "code",
   "execution_count": 3,
   "id": "0263cc41-2750-473f-bc5e-36ca06a4a982",
   "metadata": {},
   "outputs": [
    {
     "name": "stdout",
     "output_type": "stream",
     "text": [
      "255\n"
     ]
    }
   ],
   "source": [
    "# Question 7: Find the sum of all values in {'math': 85, 'science': 92, 'english': 78}\n",
    "marks = {'math': 85, 'science': 92, 'english': 78}\n",
    "total = sum(marks.values())\n",
    "print(total)"
   ]
  },
  {
   "cell_type": "code",
   "execution_count": 5,
   "id": "a74e8bd1-e1cf-440b-a3fc-2c66cc9e6544",
   "metadata": {},
   "outputs": [
    {
     "name": "stdout",
     "output_type": "stream",
     "text": [
      "{1, 4, 9, 16, 25}\n"
     ]
    }
   ],
   "source": [
    "# Question 8: Create a dictionary with squares of numbers 1 to 5\n",
    "number={x**2 for x in range(1,6)}\n",
    "print(number)"
   ]
  },
  {
   "cell_type": "code",
   "execution_count": 8,
   "id": "63b03584-0cfb-4a3b-b277-49e5b5829dbd",
   "metadata": {},
   "outputs": [
    {
     "name": "stdout",
     "output_type": "stream",
     "text": [
      "{'h': 1, 'e': 1, 'l': 2, 'o': 1}\n"
     ]
    }
   ],
   "source": [
    "# Question 9: Count frequency of each character in string \"hello\"\n",
    "name=\"hello\"\n",
    "freq={}\n",
    "for char in name:\n",
    "    if char in freq:\n",
    "        freq[char]+=1\n",
    "    else:\n",
    "        freq[char]=1\n",
    "print(freq)"
   ]
  },
  {
   "cell_type": "code",
   "execution_count": 9,
   "id": "bfbeebca-9564-43af-8e09-c4f283f5edb4",
   "metadata": {},
   "outputs": [
    {
     "data": {
      "text/plain": [
       "{'a': 1, 'b': 2, 'c': 3, 'd': 4}"
      ]
     },
     "execution_count": 9,
     "metadata": {},
     "output_type": "execute_result"
    }
   ],
   "source": [
    "# Question 10: Merge two dictionaries {'a': 1, 'b': 2} and {'c': 3, 'd': 4}\n",
    "a={'a': 1, 'b': 2}\n",
    "b={'c': 3, 'd': 4}\n",
    "a.update(b)\n",
    "a"
   ]
  },
  {
   "cell_type": "code",
   "execution_count": 10,
   "id": "5448ae6a-24ee-492d-994f-a0328e447479",
   "metadata": {},
   "outputs": [
    {
     "data": {
      "text/plain": [
       "{'person': {'name': 'Alice', 'age': 25}}"
      ]
     },
     "execution_count": 10,
     "metadata": {},
     "output_type": "execute_result"
    }
   ],
   "source": [
    "# Question 11: Create a nested dictionary: {'person': {'name': 'Alice', 'age': 25}}\n",
    "a={'person': {'name': 'Alice', 'age': 25}}\n",
    "a"
   ]
  },
  {
   "cell_type": "code",
   "execution_count": 11,
   "id": "c25e7dfb-b3ac-402a-914f-6c887a33d13d",
   "metadata": {},
   "outputs": [
    {
     "data": {
      "text/plain": [
       "'Alice'"
      ]
     },
     "execution_count": 11,
     "metadata": {},
     "output_type": "execute_result"
    }
   ],
   "source": [
    "# Question 12: Access nested value 'name' from {'person': {'name': 'Alice', 'age': 25}}\n",
    "data= {'person': {'name': 'Alice', 'age': 25}}\n",
    "name=data['person']['name']\n",
    "name"
   ]
  },
  {
   "cell_type": "code",
   "execution_count": 12,
   "id": "daf9ddfa-471a-45fc-bd11-94589dee9061",
   "metadata": {},
   "outputs": [
    {
     "name": "stdout",
     "output_type": "stream",
     "text": [
      "{'fruits': ['apple', 'banana'], 'colors': ['red', 'blue']}\n"
     ]
    }
   ],
   "source": [
    "# Question 13: Create a dictionary with list values: {'fruits': ['apple', 'banana'], 'colors': ['red', 'blue']}\n",
    "data= {'fruits': ['apple', 'banana'], 'colors': ['red', 'blue']}\n",
    "print(data)"
   ]
  },
  {
   "cell_type": "code",
   "execution_count": 13,
   "id": "7dbde28d-cb11-41f9-a3e5-d57f3c07e9f3",
   "metadata": {},
   "outputs": [
    {
     "name": "stdout",
     "output_type": "stream",
     "text": [
      "{'fruits': ['apple', 'banana', 'orange'], 'colors': ['red', 'blue']}\n"
     ]
    }
   ],
   "source": [
    "# Question 14: Add 'orange' to the 'fruits' list in nested dictionary\n",
    "data= {'fruits': ['apple', 'banana'], 'colors': ['red', 'blue']}\n",
    "data['fruits'].append('orange')\n",
    "print(data)"
   ]
  },
  {
   "cell_type": "code",
   "execution_count": 14,
   "id": "fa4e9aba-2695-4f4f-8165-78751bb85fdd",
   "metadata": {},
   "outputs": [
    {
     "data": {
      "text/plain": [
       "{'coordinates': (10, 20), 'rgb': (255, 0, 0)}"
      ]
     },
     "execution_count": 14,
     "metadata": {},
     "output_type": "execute_result"
    }
   ],
   "source": [
    "# Question 15: Create a dictionary with tuple values: {'coordinates': (10, 20), 'rgb': (255, 0, 0)}\n",
    "value= {'coordinates': (10, 20), 'rgb': (255, 0, 0)}\n",
    "value"
   ]
  },
  {
   "cell_type": "code",
   "execution_count": 16,
   "id": "838cc2c6-2845-4aaa-8499-9a2a9636c5c9",
   "metadata": {},
   "outputs": [
    {
     "name": "stdout",
     "output_type": "stream",
     "text": [
      "10\n"
     ]
    }
   ],
   "source": [
    "# Question 16: Extract first coordinate from nested tuple\n",
    "value= {'coordinates': (10, 20), 'rgb': (255, 0, 0)}\n",
    "first_coordinate=value['coordinates'][0]\n",
    "print(first_coordinate)\n"
   ]
  },
  {
   "cell_type": "code",
   "execution_count": 17,
   "id": "0481d0ac-fbf6-4372-a1b9-e62d1784f692",
   "metadata": {},
   "outputs": [
    {
     "data": {
      "text/plain": [
       "{'vowels': {'a', 'e', 'i'}, 'consonants': {'b', 'c', 'd'}}"
      ]
     },
     "execution_count": 17,
     "metadata": {},
     "output_type": "execute_result"
    }
   ],
   "source": [
    "# Question 17: Create a dictionary with set values: {'vowels': {'a', 'e', 'i'}, 'consonants': {'b', 'c', 'd'}}\n",
    "a= {'vowels': {'a', 'e', 'i'}, 'consonants': {'b', 'c', 'd'}}\n",
    "a"
   ]
  },
  {
   "cell_type": "code",
   "execution_count": 19,
   "id": "224f9f07-d073-48b6-948e-eb1247bb10ac",
   "metadata": {},
   "outputs": [
    {
     "data": {
      "text/plain": [
       "{'vowels': {'a', 'e', 'i', 'o'}, 'consonants': {'b', 'c', 'd'}}"
      ]
     },
     "execution_count": 19,
     "metadata": {},
     "output_type": "execute_result"
    }
   ],
   "source": [
    "# Question 18: Add 'o' to vowels set in nested dictionary\n",
    "a= {'vowels': {'a', 'e', 'i'}, 'consonants': {'b', 'c', 'd'}}\n",
    "a['vowels'].add('o')\n",
    "a"
   ]
  },
  {
   "cell_type": "code",
   "execution_count": 20,
   "id": "1eff995b-3c60-41da-a0da-c5831ab8712b",
   "metadata": {},
   "outputs": [
    {
     "data": {
      "text/plain": [
       "{'company': {'department': {'employee': {'name': 'John', 'id': 123}}}}"
      ]
     },
     "execution_count": 20,
     "metadata": {},
     "output_type": "execute_result"
    }
   ],
   "source": [
    "# Question 19: Create a 3-level nested dictionary: {'company': {'department': {'employee': {'name': 'John', 'id': 123}}}}\n",
    "a={'company': {'department': {'employee': {'name': 'John', 'id': 123}}}}\n",
    "a"
   ]
  },
  {
   "cell_type": "code",
   "execution_count": 29,
   "id": "5578c99c-8578-47f7-9829-ec357f6a9d02",
   "metadata": {},
   "outputs": [
    {
     "name": "stdout",
     "output_type": "stream",
     "text": [
      "John\n"
     ]
    }
   ],
   "source": [
    "# Question 20: Access employee name from 3-level nested dictionary\n",
    "a={'company': {'department': {'employee': {'name': 'John', 'id': 123}}}}\n",
    "employee_name=a['company']['department']['employee']['name']\n",
    "print(employee_name)"
   ]
  },
  {
   "cell_type": "code",
   "execution_count": 30,
   "id": "e83c6a00-ae86-4194-87e7-740185f2ac71",
   "metadata": {},
   "outputs": [
    {
     "data": {
      "text/plain": [
       "{'int': 42, 'float': 3.14, 'str': 'hello', 'bool': True}"
      ]
     },
     "execution_count": 30,
     "metadata": {},
     "output_type": "execute_result"
    }
   ],
   "source": [
    "# Question 21: Create a dictionary with mixed data types: {'int': 42, 'float': 3.14, 'str': 'hello', 'bool': True}\n",
    "a={'int': 42, 'float': 3.14, 'str': 'hello', 'bool': True}\n",
    "a"
   ]
  },
  {
   "cell_type": "code",
   "execution_count": 32,
   "id": "cee13623-98b6-4ca9-bba6-d69f8f8e2dad",
   "metadata": {},
   "outputs": [
    {
     "name": "stdout",
     "output_type": "stream",
     "text": [
      "int <class 'int'>\n",
      "float <class 'float'>\n",
      "str <class 'str'>\n",
      "bool <class 'bool'>\n"
     ]
    }
   ],
   "source": [
    "# Question 22: Check data type of each value in mixed dictionary\n",
    "a={'int': 42, 'float': 3.14, 'str': 'hello', 'bool': True}\n",
    "for k in a:\n",
    "    print(k,type(a[k]))"
   ]
  },
  {
   "cell_type": "code",
   "execution_count": 33,
   "id": "dab5dfe7-63ad-4fea-b831-b34b121ff747",
   "metadata": {},
   "outputs": [
    {
     "data": {
      "text/plain": [
       "{'len': <function len(obj, /)>, 'str': str, 'int': int}"
      ]
     },
     "execution_count": 33,
     "metadata": {},
     "output_type": "execute_result"
    }
   ],
   "source": [
    "# Question 23: Create a dictionary with function values: {'len': len, 'str': str, 'int': int}\n",
    "a={'len': len, 'str': str, 'int': int}\n",
    "a"
   ]
  },
  {
   "cell_type": "code",
   "execution_count": 3,
   "id": "31453561-2881-4951-a6f0-8212d43d8a0d",
   "metadata": {},
   "outputs": [
    {
     "name": "stdout",
     "output_type": "stream",
     "text": [
      "{'len': 3, 'str': '123', 'int': 123}\n"
     ]
    }
   ],
   "source": [
    "# Question 24: Apply each function to \"123\" using dictionary\n",
    "a={'len': len, 'str': str, 'int': int}\n",
    "values = \"123\"\n",
    "result={\n",
    "        'len': len(values),\n",
    "        'str': str(values), \n",
    "        'int': int(values)\n",
    "       }\n",
    "print(result)\n",
    "\n"
   ]
  },
  {
   "cell_type": "code",
   "execution_count": 5,
   "id": "274c542d-de9a-48d9-ac07-713e152b8476",
   "metadata": {},
   "outputs": [
    {
     "data": {
      "text/plain": [
       "{'double': <function __main__.<lambda>(x)>,\n",
       " 'square': <function __main__.<lambda>(x)>}"
      ]
     },
     "execution_count": 5,
     "metadata": {},
     "output_type": "execute_result"
    }
   ],
   "source": [
    "# Question 25: Create a dictionary with lambda functions: {'double': lambda x: x*2, 'square': lambda x: x**2}\n",
    "a={'double': lambda x: x*2, 'square': lambda x: x**2}\n",
    "a"
   ]
  },
  {
   "cell_type": "code",
   "execution_count": 12,
   "id": "f6f0119a-925e-41b7-89a6-b1317fd78d69",
   "metadata": {},
   "outputs": [
    {
     "name": "stdout",
     "output_type": "stream",
     "text": [
      "10\n",
      "25\n"
     ]
    }
   ],
   "source": [
    "#Question 26: Apply each lambda function to 5\n",
    "a={'double': lambda x: x*2, 'square': lambda x: x**2}\n",
    "x=5\n",
    "print(a['double'](x))\n",
    "print(a['square'](x))\n"
   ]
  },
  {
   "cell_type": "code",
   "execution_count": 15,
   "id": "9fe81bfd-2efd-4010-8fed-f76e411a7b55",
   "metadata": {},
   "outputs": [
    {
     "name": "stdout",
     "output_type": "stream",
     "text": [
      "{'list': <class 'list'>, 'dict': <class 'dict'>, 'set': <class 'set'>}\n"
     ]
    }
   ],
   "source": [
    "# Question 27: Create a dictionary with class values: {'list': list, 'dict': dict, 'set': set}\n",
    "class_dict={'list': list, 'dict': dict, 'set': set}\n",
    "print(class_dict)\n",
    "\n",
    "\n",
    "\n"
   ]
  },
  {
   "cell_type": "code",
   "execution_count": 17,
   "id": "32aab47b-1b25-4d4f-9006-a0763628ed8c",
   "metadata": {},
   "outputs": [
    {
     "name": "stdout",
     "output_type": "stream",
     "text": [
      "[1, 2, 3]\n",
      "{'name': 'alice', 'age': 25}\n",
      "{1, 2, 4, 23}\n"
     ]
    }
   ],
   "source": [
    "# Question 28: Create instances using class dictionary\n",
    "class_dict={'list': list, 'dict': dict, 'set': set}\n",
    "my_list=class_dict['list']([1,2,3])\n",
    "my_dict=class_dict['dict'](name='alice',age=25)\n",
    "my_set=class_dict['set']([1,2,23,4])\n",
    "print(my_list)\n",
    "print(my_dict)\n",
    "print(my_set)"
   ]
  },
  {
   "cell_type": "code",
   "execution_count": 18,
   "id": "15c0e0e5-25ad-4487-b95a-41cc943b814a",
   "metadata": {},
   "outputs": [
    {
     "data": {
      "text/plain": [
       "{'a': None, 'b': None, 'c': None}"
      ]
     },
     "execution_count": 18,
     "metadata": {},
     "output_type": "execute_result"
    }
   ],
   "source": [
    "# Question 29: Create a dictionary with None values: {'a': None, 'b': None, 'c': None}\n",
    "a={'a': None, 'b': None, 'c': None}\n",
    "a"
   ]
  },
  {
   "cell_type": "code",
   "execution_count": 3,
   "id": "355ac8f8-a89b-488a-ba4b-358a3b8acab5",
   "metadata": {},
   "outputs": [
    {
     "data": {
      "text/plain": [
       "{'a': 0, 'b': 0, 'c': 0}"
      ]
     },
     "execution_count": 3,
     "metadata": {},
     "output_type": "execute_result"
    }
   ],
   "source": [
    "# Question 30: Replace all None values with 0\n",
    "dict={'a': None, 'b': None, 'c': None}\n",
    "dict['a']=0\n",
    "dict['b']=0\n",
    "dict['c']=0\n",
    "dict\n"
   ]
  },
  {
   "cell_type": "code",
   "execution_count": 2,
   "id": "97826946-e68f-493d-8def-242a0c15c53c",
   "metadata": {},
   "outputs": [
    {
     "data": {
      "text/plain": [
       "{'is_active': True, 'is_admin': False}"
      ]
     },
     "execution_count": 2,
     "metadata": {},
     "output_type": "execute_result"
    }
   ],
   "source": [
    "# Question 31: Create a dictionary with boolean values: {'is_active': True, 'is_admin': False\n",
    "data = {'is_active': True, 'is_admin': False}\n",
    "data\n"
   ]
  },
  {
   "cell_type": "code",
   "execution_count": null,
   "id": "cf41d65e-9854-422d-b541-331b439765b9",
   "metadata": {},
   "outputs": [],
   "source": []
  }
 ],
 "metadata": {
  "kernelspec": {
   "display_name": "Python 3 (ipykernel)",
   "language": "python",
   "name": "python3"
  },
  "language_info": {
   "codemirror_mode": {
    "name": "ipython",
    "version": 3
   },
   "file_extension": ".py",
   "mimetype": "text/x-python",
   "name": "python",
   "nbconvert_exporter": "python",
   "pygments_lexer": "ipython3",
   "version": "3.13.5"
  }
 },
 "nbformat": 4,
 "nbformat_minor": 5
}
